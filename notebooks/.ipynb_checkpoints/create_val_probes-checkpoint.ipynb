{
 "cells": [
  {
   "cell_type": "code",
   "execution_count": 1,
   "metadata": {},
   "outputs": [],
   "source": [
    "import json"
   ]
  },
  {
   "cell_type": "code",
   "execution_count": 61,
   "metadata": {},
   "outputs": [],
   "source": [
    "val_scenes_file = \"../../data/CLEVR_v1.0/scenes/CLEVR_val_scenes.json\""
   ]
  },
  {
   "cell_type": "code",
   "execution_count": 62,
   "metadata": {},
   "outputs": [],
   "source": [
    "f = open(val_scenes_file) "
   ]
  },
  {
   "cell_type": "code",
   "execution_count": 63,
   "metadata": {},
   "outputs": [],
   "source": [
    "val_scenes = json.load(f)"
   ]
  },
  {
   "cell_type": "code",
   "execution_count": 64,
   "metadata": {},
   "outputs": [
    {
     "data": {
      "text/plain": [
       "15000"
      ]
     },
     "execution_count": 64,
     "metadata": {},
     "output_type": "execute_result"
    }
   ],
   "source": [
    "len(val_scenes[\"scenes\"])"
   ]
  },
  {
   "cell_type": "code",
   "execution_count": 67,
   "metadata": {},
   "outputs": [],
   "source": [
    "s = val_scenes[\"scenes\"][:100]"
   ]
  },
  {
   "cell_type": "code",
   "execution_count": 68,
   "metadata": {},
   "outputs": [
    {
     "data": {
      "text/plain": [
       "100"
      ]
     },
     "execution_count": 68,
     "metadata": {},
     "output_type": "execute_result"
    }
   ],
   "source": [
    "len(s)"
   ]
  },
  {
   "cell_type": "markdown",
   "metadata": {},
   "source": [
    "## Create val probes"
   ]
  },
  {
   "cell_type": "code",
   "execution_count": 165,
   "metadata": {},
   "outputs": [],
   "source": [
    "import json\n",
    "import datetime\n",
    "from collections import namedtuple\n",
    "from dataclasses import dataclass, field, asdict\n",
    "from threading import Lock\n",
    "from multiprocessing import Pool\n",
    "from itertools import cycle\n",
    "from enum import IntEnum"
   ]
  },
  {
   "cell_type": "code",
   "execution_count": 166,
   "metadata": {},
   "outputs": [],
   "source": [
    "class ProbeType(IntEnum):\n",
    "    OR = 1\n",
    "    AND = 2\n",
    "    MORE = 3\n",
    "    LESS = 4\n",
    "    BEHIND = 5\n",
    "    FRONT = 6\n",
    "    SAME = 7"
   ]
  },
  {
   "cell_type": "markdown",
   "metadata": {},
   "source": [
    "#### Define dataclasses that will be used to create question json files"
   ]
  },
  {
   "cell_type": "code",
   "execution_count": 167,
   "metadata": {},
   "outputs": [],
   "source": [
    "@dataclass\n",
    "class Question:\n",
    "    split: str\n",
    "    image_index: int\n",
    "    image_filename: str\n",
    "    question: str\n",
    "    answer: str\n",
    "    question_family_index: int\n",
    "\n",
    "@dataclass\n",
    "class Probe:\n",
    "    split: str\n",
    "    version: str\n",
    "    license: str\n",
    "    date: str = datetime.datetime.now().strftime(\"%x\")\n",
    "    questions: list = field(default_factory=list)\n",
    "        \n",
    "    def add_q(self, q):\n",
    "        self.questions.append(q)\n",
    "        "
   ]
  },
  {
   "cell_type": "markdown",
   "metadata": {},
   "source": [
    "#### Question set matches a question to all of its compatible images and creates answers"
   ]
  },
  {
   "cell_type": "code",
   "execution_count": 168,
   "metadata": {},
   "outputs": [],
   "source": [
    "def create_question(text, params):\n",
    "    question = text\n",
    "    for p in params:\n",
    "        #replace the param name with the word\n",
    "        question = question.replace(p[0], p[2])\n",
    "    return question\n",
    "         \n",
    "def test_scene_answer(scene, split, params):\n",
    "    def helper_two_objects(objects):\n",
    "        Object = namedtuple(\"Object\", [\"exist\", \"count\", \"index\"], defaults=(False, 0, -1))\n",
    "        o1_exist = o2_exist = False\n",
    "        o1_count = o2_count = 0\n",
    "        o1_index = o2_index = -1\n",
    "        for i, object in enumerate(scene['objects']):\n",
    "            if params[0][1] in (object['size'], object['color'], object['material'], \"\") and params[1][1] in (object['shape'], 'thing'):\n",
    "                o1_exist = True\n",
    "                o1_count += 1\n",
    "                o1_index = i\n",
    "            elif params[2][1] in (object['size'], object['color'], object['material'], \"\") and params[3][1] in (object['shape'], 'thing'):\n",
    "                o2_exist = True\n",
    "                o2_count += 1\n",
    "                o2_index = i\n",
    "        return Object(o1_exist, o1_count, o1_index), Object(o2_exist, o2_count, o2_index)\n",
    "        # return object1_exist, object2_exist, object1_count, object2_count, object1_index, object2_index\n",
    "\n",
    "    image_index = scene[\"image_index\"]\n",
    "    objects = scene[\"objects\"]\n",
    "    answer = None\n",
    "    if split == ProbeType.OR:\n",
    "        #OR \"answers\": [(\"yes\", \"yes\"), (\"no\", \"yes\"), (\"no\", \"no\")] consider both the exclusive and inclusive interpretations\n",
    "        #\"Is there a <M> <N> or a <M1> <N1>?\"\n",
    "        #Presuppositions: None\n",
    "        #Answers:\n",
    "            # yes inclusive: (<M> <N>), (<M1> <N1>), (<M> <N> and <M1> <N1>)\n",
    "            # yes exclusive: (<M> <N>), (<M1> <N1>),\n",
    "            # no inclusive: !(<M> <N> and <M1> <N1>)\n",
    "            # no exclusive: !(<M> <N> and <M1> <N1>), (<M> <N> and <M1> <N1>)\n",
    "        o1, o2 = helper_two_objects(objects)\n",
    "\n",
    "        #Answer conditions\n",
    "        if o1.exist is not o2.exist:\n",
    "            answer = \"yes\"\n",
    "        elif o1.exist and o2.exist:\n",
    "            answer = \"yes (inclusive) / no (exclusive)\"\n",
    "        else:\n",
    "            answer = \"no\"\n",
    "\n",
    "    elif split == ProbeType.AND:\n",
    "        #AND \"answers\" : \"yes\" \"no\"\n",
    "        #\"Is there a <M> <N> and a <M1> <N1>?\"\n",
    "        #Presuppositions: None\n",
    "        #Answers:\n",
    "            # yes : (<M> <N> and <M1> <N1>)\n",
    "            # no : !(<M> <N>), !(<M1> <N1>)\n",
    "        o1, o2 = helper_two_objects(objects)\n",
    "\n",
    "        #Answer conditions\n",
    "        answer = \"yes\" if o1.exist and o2.exist else \"no\"\n",
    "\n",
    "    elif split == ProbeType.MORE:\n",
    "        #MORE \"answers\" : \"yes\" \"no\" consider by relative number of each item\n",
    "        #\"Are there more of the <M> <N>s than the <M1> <N1>s?\"\n",
    "        #Presuppositions: (<M> <N> and <M1> <N1>)\n",
    "        #Answers:\n",
    "            # yes : count(<M> <N>) > count(<M1> <N1>)\n",
    "            # no : count(<M> <N>) <= count(<M1> <N1>)\n",
    "        o1, o2 = helper_two_objects(objects)\n",
    "\n",
    "        #Presupposition\n",
    "        if o1.count and o2.count:\n",
    "            #Answer conditions\n",
    "            more = o1.count > o2.count\n",
    "            answer = \"yes\" if more else \"no\"\n",
    "\n",
    "    elif split == ProbeType.LESS:\n",
    "        #LESS \"answers\" : \"yes\" \"no\" consider by relative number of each item\n",
    "        #\"Are there fewer of the <M> <N>s than the <M1> <N1>s?\"\n",
    "        #Presuppositions: (<M> <N> and <M1> <N1>)\n",
    "        #Answers:\n",
    "            # yes : count(<M> <N>) < count(<M1> <N1>)\n",
    "            # no : count(<M> <N>) >= count(<M1> <N1>)\n",
    "\n",
    "        o1, o2 = helper_two_objects(objects)\n",
    "\n",
    "        #Presupposition\n",
    "        if o1.count and o2.count:\n",
    "            #Answer conditions\n",
    "            less = o1.count < o2.count\n",
    "            answer = \"yes\" if less else \"no\"\n",
    "\n",
    "    elif split == ProbeType.BEHIND:\n",
    "        #BEHIND \"answers\" : \"yes\" \"no\" consider distance and occlusion\n",
    "        #\"Is the <M> <N> behind the <M1> <N1>?\"\n",
    "        #Presuppositions: (<M> <N> and <M1> <N1>) and uniqueness\n",
    "        #Answers:\n",
    "            # yes : in_relation_behind(<M> <N>)(<M1> <N1>)\n",
    "            # no : !in_relation_behind(<M> <N>)(<M1> <N1>)\n",
    "\n",
    "        o1, o2 = helper_two_objects(objects)\n",
    "\n",
    "        #Presupposition\n",
    "        if o1.count == 1 and o2.count == 1:\n",
    "            #Answer conditions\n",
    "            behind = o1.index in scene[\"relationships\"][\"behind\"][o2.index]\n",
    "            answer = \"yes\" if behind else \"no\"\n",
    "\n",
    "    elif split == ProbeType.FRONT:\n",
    "        #IN FRONT OF \"answers\" : \"yes\" \"no\" consider distance and occlusion\n",
    "        #\"Is the <M> <N> in front of the <M1> <N1>?\"\n",
    "        #Presuppositions: (<M> <N> and <M1> <N1>)\n",
    "        #Answers:\n",
    "            # yes : in_relation_front(<M> <N>)(<M1> <N1>)\n",
    "            # no : !in_relation_front(<M> <N>)(<M1> <N1>)\n",
    "\n",
    "        o1, o2 = helper_two_objects(objects)\n",
    "\n",
    "        #Presupposition\n",
    "        if o1.count == 1 and o2.count == 1:\n",
    "            # Answer conditions\n",
    "            front = o1.index in scene[\"relationships\"][\"front\"][o2.index]\n",
    "            answer = \"yes\" if front else \"no\"\n",
    "\n",
    "    elif split == ProbeType.SAME:\n",
    "        #SAME \"answers\" : \"yes\" \"no\" consider by feature eg what was the feature type and what was the feature value?\n",
    "        #\"Are the <M> <N>s the same <P>?\"\n",
    "        #Presuppositions: count(<M> <N>) >= 2\n",
    "        #Answers:\n",
    "            # yes : for all <M> <N>s same<P> == True\n",
    "            # no : for all <M> <N>s same<P> == False\n",
    "        property = params[2][1]\n",
    "        prev_property_value = \"\"\n",
    "        object_count = 0\n",
    "        same = False\n",
    "        for i, object in enumerate(scene['objects']):\n",
    "            if params[0][1] in (object['size'], object['color'], object['material'], \"\") and params[1][1] in (object['shape'], \"thing\"):\n",
    "                object_count += 1\n",
    "                if not prev_property_value:\n",
    "                    prev_property_value = object[property]\n",
    "                elif prev_property_value == object[property]:\n",
    "                    same = True\n",
    "                else:\n",
    "                    same = False\n",
    "                    break\n",
    "        #Presupposition\n",
    "        if object_count > 1:\n",
    "            #Answer conditions\n",
    "            answer = \"yes\" if same else \"no\"\n",
    "            \n",
    "    return (image_index, answer)\n",
    "\n",
    "\n",
    "\n"
   ]
  },
  {
   "cell_type": "markdown",
   "metadata": {},
   "source": [
    "#### Populate probes with questions-image-answer pairs using templates, param combinations, and scenes (currently val)"
   ]
  },
  {
   "cell_type": "code",
   "execution_count": 171,
   "metadata": {},
   "outputs": [],
   "source": [
    "def get_probes_questions():\n",
    "    # load in question templates and possible parameter values for questions\n",
    "    with open(\"../probe-data-creation/probe_templates.json\") as templates:\n",
    "        question_templates = json.load(templates)\n",
    "    with open(\"../probe-data-creation/one_referent_params.json\") as one_referent:\n",
    "        one_referent_params = json.load(one_referent)\n",
    "    with open(\"../probe-data-creation/two_referent_params.json\") as two_referent:\n",
    "        two_referent_params = json.load(two_referent)\n",
    "\n",
    "    # Note this will hopefully be replaced by the test image scenes once the authors get back to us\n",
    "    with open(\"../../data/CLEVR_v1.0/scenes/CLEVR_val_scenes.json\") as image_info:\n",
    "        scenes = json.load(image_info)\n",
    "    scenes = scenes['scenes'][:10]\n",
    "    #with open(\"synonyms.json\") as synonym_list:\n",
    "    #    synonyms = json.load(synonym_list)\n",
    "\n",
    "    for template in question_templates:\n",
    "        # Create new probe for each new probe word\n",
    "        id_counter = 0\n",
    "        text = template[\"text\"]\n",
    "        split = template[\"probe_type\"]\n",
    "        for pt in ProbeType:\n",
    "            if pt.name == split:\n",
    "                probe_type = pt\n",
    "                break\n",
    "        probe = Probe(split, \"v1.0\", \"CC\")\n",
    "        print(probe_type)\n",
    "        # If SAME template\n",
    "        if probe_type == ProbeType.SAME:\n",
    "            referents = one_referent_params[:10]\n",
    "        else :\n",
    "            referents = two_referent_params[:10]\n",
    "        # for each possible param combination\n",
    "        for values in referents:\n",
    "            params = []\n",
    "            for i in range(len(values)):\n",
    "                name = template[\"params\"][i]['name']\n",
    "                value = values[i]\n",
    "                word = value\n",
    "                params.append((name, value, word))\n",
    "            question = create_question(text, params)\n",
    "            scene_split_params = zip(scenes, cycle([probe_type]), cycle([params]))\n",
    "            with Pool() as pool:\n",
    "                images_answers_pairs = pool.starmap(test_scene_answer, scene_split_params)\n",
    "            for image_index, answer in images_answers_pairs:\n",
    "                if answer:\n",
    "                    image_filename = \"CLEVR_val_\"+str(image_index)+\".png\"\n",
    "                    q = Question(split, image_index, image_filename, question, answer, id_counter)\n",
    "                    probe.add_q(q)\n",
    "            id_counter += 1\n",
    "        filename = probe.split + \"_val_questions.json\"\n",
    "        with open(filename, 'w') as f:\n",
    "            probe_dict = asdict(probe)\n",
    "            json.dump(probe_dict, f)\n",
    "    "
   ]
  },
  {
   "cell_type": "code",
   "execution_count": 172,
   "metadata": {
    "scrolled": true
   },
   "outputs": [
    {
     "name": "stdout",
     "output_type": "stream",
     "text": [
      "ProbeType.OR\n",
      "ProbeType.AND\n",
      "ProbeType.MORE\n",
      "ProbeType.LESS\n",
      "ProbeType.SAME\n",
      "ProbeType.BEHIND\n",
      "ProbeType.FRONT\n"
     ]
    }
   ],
   "source": [
    "probes = get_probes_questions()"
   ]
  },
  {
   "cell_type": "code",
   "execution_count": 173,
   "metadata": {},
   "outputs": [
    {
     "data": {
      "text/plain": [
       "{'split': 'MORE',\n",
       " 'version': 'v1.0',\n",
       " 'license': 'CC',\n",
       " 'date': '04/19/21',\n",
       " 'questions': [{'split': 'MORE',\n",
       "   'image_index': 4,\n",
       "   'image_filename': 'CLEVR_val_4.png',\n",
       "   'question': 'Are there more of the gray things than the red things?',\n",
       "   'answer': 'yes',\n",
       "   'question_family_index': 0},\n",
       "  {'split': 'MORE',\n",
       "   'image_index': 4,\n",
       "   'image_filename': 'CLEVR_val_4.png',\n",
       "   'question': 'Are there more of the gray things than the red spheres?',\n",
       "   'answer': 'yes',\n",
       "   'question_family_index': 1},\n",
       "  {'split': 'MORE',\n",
       "   'image_index': 1,\n",
       "   'image_filename': 'CLEVR_val_1.png',\n",
       "   'question': 'Are there more of the gray things than the blue things?',\n",
       "   'answer': 'no',\n",
       "   'question_family_index': 4},\n",
       "  {'split': 'MORE',\n",
       "   'image_index': 2,\n",
       "   'image_filename': 'CLEVR_val_2.png',\n",
       "   'question': 'Are there more of the gray things than the blue things?',\n",
       "   'answer': 'no',\n",
       "   'question_family_index': 4},\n",
       "  {'split': 'MORE',\n",
       "   'image_index': 3,\n",
       "   'image_filename': 'CLEVR_val_3.png',\n",
       "   'question': 'Are there more of the gray things than the blue things?',\n",
       "   'answer': 'no',\n",
       "   'question_family_index': 4},\n",
       "  {'split': 'MORE',\n",
       "   'image_index': 5,\n",
       "   'image_filename': 'CLEVR_val_5.png',\n",
       "   'question': 'Are there more of the gray things than the blue things?',\n",
       "   'answer': 'no',\n",
       "   'question_family_index': 4},\n",
       "  {'split': 'MORE',\n",
       "   'image_index': 6,\n",
       "   'image_filename': 'CLEVR_val_6.png',\n",
       "   'question': 'Are there more of the gray things than the blue things?',\n",
       "   'answer': 'no',\n",
       "   'question_family_index': 4},\n",
       "  {'split': 'MORE',\n",
       "   'image_index': 9,\n",
       "   'image_filename': 'CLEVR_val_9.png',\n",
       "   'question': 'Are there more of the gray things than the blue things?',\n",
       "   'answer': 'yes',\n",
       "   'question_family_index': 4},\n",
       "  {'split': 'MORE',\n",
       "   'image_index': 1,\n",
       "   'image_filename': 'CLEVR_val_1.png',\n",
       "   'question': 'Are there more of the gray things than the blue cubes?',\n",
       "   'answer': 'no',\n",
       "   'question_family_index': 6},\n",
       "  {'split': 'MORE',\n",
       "   'image_index': 2,\n",
       "   'image_filename': 'CLEVR_val_2.png',\n",
       "   'question': 'Are there more of the gray things than the blue cubes?',\n",
       "   'answer': 'no',\n",
       "   'question_family_index': 6},\n",
       "  {'split': 'MORE',\n",
       "   'image_index': 5,\n",
       "   'image_filename': 'CLEVR_val_5.png',\n",
       "   'question': 'Are there more of the gray things than the blue cubes?',\n",
       "   'answer': 'no',\n",
       "   'question_family_index': 6},\n",
       "  {'split': 'MORE',\n",
       "   'image_index': 6,\n",
       "   'image_filename': 'CLEVR_val_6.png',\n",
       "   'question': 'Are there more of the gray things than the blue cubes?',\n",
       "   'answer': 'no',\n",
       "   'question_family_index': 6},\n",
       "  {'split': 'MORE',\n",
       "   'image_index': 9,\n",
       "   'image_filename': 'CLEVR_val_9.png',\n",
       "   'question': 'Are there more of the gray things than the blue cubes?',\n",
       "   'answer': 'yes',\n",
       "   'question_family_index': 6},\n",
       "  {'split': 'MORE',\n",
       "   'image_index': 1,\n",
       "   'image_filename': 'CLEVR_val_1.png',\n",
       "   'question': 'Are there more of the gray things than the blue cylinders?',\n",
       "   'answer': 'no',\n",
       "   'question_family_index': 7},\n",
       "  {'split': 'MORE',\n",
       "   'image_index': 3,\n",
       "   'image_filename': 'CLEVR_val_3.png',\n",
       "   'question': 'Are there more of the gray things than the blue cylinders?',\n",
       "   'answer': 'no',\n",
       "   'question_family_index': 7},\n",
       "  {'split': 'MORE',\n",
       "   'image_index': 0,\n",
       "   'image_filename': 'CLEVR_val_0.png',\n",
       "   'question': 'Are there more of the gray things than the green things?',\n",
       "   'answer': 'yes',\n",
       "   'question_family_index': 8},\n",
       "  {'split': 'MORE',\n",
       "   'image_index': 1,\n",
       "   'image_filename': 'CLEVR_val_1.png',\n",
       "   'question': 'Are there more of the gray things than the green things?',\n",
       "   'answer': 'no',\n",
       "   'question_family_index': 8},\n",
       "  {'split': 'MORE',\n",
       "   'image_index': 2,\n",
       "   'image_filename': 'CLEVR_val_2.png',\n",
       "   'question': 'Are there more of the gray things than the green things?',\n",
       "   'answer': 'no',\n",
       "   'question_family_index': 8},\n",
       "  {'split': 'MORE',\n",
       "   'image_index': 4,\n",
       "   'image_filename': 'CLEVR_val_4.png',\n",
       "   'question': 'Are there more of the gray things than the green things?',\n",
       "   'answer': 'yes',\n",
       "   'question_family_index': 8},\n",
       "  {'split': 'MORE',\n",
       "   'image_index': 6,\n",
       "   'image_filename': 'CLEVR_val_6.png',\n",
       "   'question': 'Are there more of the gray things than the green things?',\n",
       "   'answer': 'no',\n",
       "   'question_family_index': 8},\n",
       "  {'split': 'MORE',\n",
       "   'image_index': 2,\n",
       "   'image_filename': 'CLEVR_val_2.png',\n",
       "   'question': 'Are there more of the gray things than the green spheres?',\n",
       "   'answer': 'no',\n",
       "   'question_family_index': 9}]}"
      ]
     },
     "execution_count": 173,
     "metadata": {},
     "output_type": "execute_result"
    }
   ],
   "source": [
    "asdict(probes[\"MORE\"])"
   ]
  },
  {
   "cell_type": "code",
   "execution_count": 152,
   "metadata": {},
   "outputs": [],
   "source": [
    "for probe in probes:\n",
    "    filename = probes[probe].split + \"_val_questions.json\"\n",
    "    with open(filename, 'w') as f:\n",
    "        probe_dict = asdict(probes[probe])\n",
    "        json.dump(probe_dict, f)\n",
    "    "
   ]
  },
  {
   "cell_type": "code",
   "execution_count": null,
   "metadata": {},
   "outputs": [],
   "source": []
  }
 ],
 "metadata": {
  "kernelspec": {
   "display_name": "Python 3",
   "language": "python",
   "name": "python3"
  },
  "language_info": {
   "codemirror_mode": {
    "name": "ipython",
    "version": 3
   },
   "file_extension": ".py",
   "mimetype": "text/x-python",
   "name": "python",
   "nbconvert_exporter": "python",
   "pygments_lexer": "ipython3",
   "version": "3.7.3"
  }
 },
 "nbformat": 4,
 "nbformat_minor": 2
}
