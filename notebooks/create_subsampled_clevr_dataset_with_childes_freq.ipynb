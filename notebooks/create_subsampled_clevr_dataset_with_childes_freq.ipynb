{
 "cells": [
  {
   "cell_type": "code",
   "execution_count": 7,
   "id": "e61d3f74",
   "metadata": {},
   "outputs": [],
   "source": [
    "import os\n",
    "import json\n",
    "import random"
   ]
  },
  {
   "cell_type": "code",
   "execution_count": 2,
   "id": "a68f1318",
   "metadata": {},
   "outputs": [],
   "source": [
    "train_q_file = \"../../data/CLEVR_v1/data/CLEVR_train_questions.json\""
   ]
  },
  {
   "cell_type": "code",
   "execution_count": 3,
   "id": "e9c4e8bf",
   "metadata": {},
   "outputs": [],
   "source": [
    "with open(train_q_file) as f:\n",
    "    train_questions = json.load(f)"
   ]
  },
  {
   "cell_type": "code",
   "execution_count": 5,
   "id": "8f46877b",
   "metadata": {},
   "outputs": [],
   "source": [
    "info = train_questions['info']"
   ]
  },
  {
   "cell_type": "code",
   "execution_count": 6,
   "id": "5e788375",
   "metadata": {},
   "outputs": [],
   "source": [
    "questions = train_questions['questions']"
   ]
  },
  {
   "cell_type": "code",
   "execution_count": 15,
   "id": "69d84180",
   "metadata": {},
   "outputs": [],
   "source": [
    "questions_dict = {}\n",
    "for q in questions:\n",
    "    questions_dict[q['question_index']] = q"
   ]
  },
  {
   "cell_type": "code",
   "execution_count": 16,
   "id": "0c8a810a",
   "metadata": {},
   "outputs": [
    {
     "data": {
      "text/plain": [
       "699989"
      ]
     },
     "execution_count": 16,
     "metadata": {},
     "output_type": "execute_result"
    }
   ],
   "source": []
  },
  {
   "cell_type": "markdown",
   "id": "051a851c",
   "metadata": {},
   "source": [
    "## Sampling a CHILDES-like CLEVR dataset"
   ]
  },
  {
   "cell_type": "markdown",
   "id": "e47e7100",
   "metadata": {},
   "source": [
    "As it stands here are the proportional frequencies of our function words:\n",
    "WORD      PROP_CLEVR  PROP_CHILDES \n",
    "and          0.1         0.8 \n",
    "or           0.08        0.08 \n",
    "more         0.01        0.09 \n",
    "less         0.01        0.0007 \n",
    "behind       0.18        0.01 \n",
    "in front     0.18        0.002 \n",
    "same         0.43        0.01 "
   ]
  },
  {
   "cell_type": "markdown",
   "id": "4b51e5fe",
   "metadata": {},
   "source": [
    "Since these words can appear in the same questions, I cannot simple downsample them individually based on these proportions, but have to do this in steps."
   ]
  },
  {
   "cell_type": "code",
   "execution_count": 17,
   "id": "dacaf10c",
   "metadata": {},
   "outputs": [],
   "source": [
    "def get_questions_with_word(word):\n",
    "    word_questions = set()\n",
    "    for k,v in questions_dict.items():\n",
    "        if word in v['question']:\n",
    "            word_questions.add(k)\n",
    "    return word_questions"
   ]
  },
  {
   "cell_type": "code",
   "execution_count": 101,
   "id": "e7964378",
   "metadata": {},
   "outputs": [],
   "source": [
    "def get_total_word_count_and_data(subsampled_questions_dict):\n",
    "    total_word_count = 0\n",
    "    data = []\n",
    "    for k,q in subsampled_questions_dict.items():\n",
    "        line = q['question']\n",
    "        line = line.strip('?').lower()\n",
    "        line_as_list = line.split(\" \")\n",
    "        data += line_as_list\n",
    "        total_word_count += len(line_as_list)\n",
    "    return data, total_word_count\n",
    "\n",
    "def get_token_counts(data):\n",
    "    word_set = {\"and\", \"or\", \"more\", \"fewer\", \"behind\", \"front\", \"same\"}\n",
    "    token_count_dict = {\"and\": 0, \"or\": 0, \"more\": 0, \"fewer\": 0, \"behind\": 0, \"in front\": 0, \"same\": 0}\n",
    "    prev_word = \"\"\n",
    "    for word in data:\n",
    "        if word in word_set:\n",
    "            if word == \"front\":\n",
    "                if prev_word == \"in\":\n",
    "                    token_count_dict[\"in front\"] += 1\n",
    "            else:\n",
    "                token_count_dict[word] += 1\n",
    "        prev_word = word\n",
    "    return token_count_dict"
   ]
  },
  {
   "cell_type": "markdown",
   "id": "ab700cf6",
   "metadata": {},
   "source": [
    "### Upsampling"
   ]
  },
  {
   "cell_type": "markdown",
   "id": "6a7d64c3",
   "metadata": {},
   "source": [
    "Repeat all the 'and' and 'more' items once"
   ]
  },
  {
   "cell_type": "code",
   "execution_count": 117,
   "id": "951ffbfb",
   "metadata": {},
   "outputs": [
    {
     "data": {
      "text/plain": [
       "{'and': 81506,\n",
       " 'or': 63214,\n",
       " 'more': 11570,\n",
       " 'fewer': 11851,\n",
       " 'behind': 147409,\n",
       " 'in front': 147506,\n",
       " 'same': 356333}"
      ]
     },
     "execution_count": 117,
     "metadata": {},
     "output_type": "execute_result"
    }
   ],
   "source": [
    "data, total_word_count = get_total_word_count_and_data(questions_dict)\n",
    "token_count_dict = get_token_counts(data)\n",
    "token_count_dict"
   ]
  },
  {
   "cell_type": "code",
   "execution_count": 118,
   "id": "076eced4",
   "metadata": {},
   "outputs": [],
   "source": [
    "token_count_dict['and'] = token_count_dict['and']*2"
   ]
  },
  {
   "cell_type": "code",
   "execution_count": 119,
   "id": "b34e0e86",
   "metadata": {},
   "outputs": [],
   "source": [
    "token_count_dict['more'] = token_count_dict['more']*2"
   ]
  },
  {
   "cell_type": "code",
   "execution_count": 120,
   "id": "8d258c04",
   "metadata": {},
   "outputs": [
    {
     "data": {
      "text/plain": [
       "{'and': 163012,\n",
       " 'or': 63214,\n",
       " 'more': 23140,\n",
       " 'fewer': 11851,\n",
       " 'behind': 147409,\n",
       " 'in front': 147506,\n",
       " 'same': 356333}"
      ]
     },
     "execution_count": 120,
     "metadata": {},
     "output_type": "execute_result"
    }
   ],
   "source": [
    "token_count_dict"
   ]
  },
  {
   "cell_type": "code",
   "execution_count": 121,
   "id": "e00e1b8e",
   "metadata": {},
   "outputs": [],
   "source": [
    "sum_count = sum([token_count_dict[k] for k in token_count_dict.keys()])"
   ]
  },
  {
   "cell_type": "code",
   "execution_count": 122,
   "id": "0fe5d6b7",
   "metadata": {},
   "outputs": [
    {
     "data": {
      "text/plain": [
       "912465"
      ]
     },
     "execution_count": 122,
     "metadata": {},
     "output_type": "execute_result"
    }
   ],
   "source": [
    "sum_count"
   ]
  },
  {
   "cell_type": "code",
   "execution_count": 123,
   "id": "ddaccb36",
   "metadata": {},
   "outputs": [],
   "source": [
    "token_prop_dict = {k:(v/sum_count) for k,v in token_count_dict.items()}"
   ]
  },
  {
   "cell_type": "code",
   "execution_count": 124,
   "id": "b6526de1",
   "metadata": {},
   "outputs": [
    {
     "data": {
      "text/plain": [
       "{'and': 0.17865014000537008,\n",
       " 'or': 0.06927827368720992,\n",
       " 'more': 0.025359876817192987,\n",
       " 'fewer': 0.012987895426125934,\n",
       " 'behind': 0.16155030603913575,\n",
       " 'in front': 0.16165661148646798,\n",
       " 'same': 0.39051689653849736}"
      ]
     },
     "execution_count": 124,
     "metadata": {},
     "output_type": "execute_result"
    }
   ],
   "source": [
    "token_prop_dict"
   ]
  },
  {
   "cell_type": "markdown",
   "id": "cadf60c4",
   "metadata": {},
   "source": [
    "### Downsampling"
   ]
  },
  {
   "cell_type": "markdown",
   "id": "723ded02",
   "metadata": {},
   "source": [
    "#### SAME"
   ]
  },
  {
   "cell_type": "code",
   "execution_count": 72,
   "id": "f2b301ba",
   "metadata": {},
   "outputs": [],
   "source": [
    "same_questions = get_questions_with_word(\" same \")"
   ]
  },
  {
   "cell_type": "code",
   "execution_count": 73,
   "id": "9cdc7421",
   "metadata": {},
   "outputs": [
    {
     "data": {
      "text/plain": [
       "356333"
      ]
     },
     "execution_count": 73,
     "metadata": {},
     "output_type": "execute_result"
    }
   ],
   "source": [
    "len(same_questions)"
   ]
  },
  {
   "cell_type": "code",
   "execution_count": 137,
   "id": "749eb5f9",
   "metadata": {},
   "outputs": [
    {
     "data": {
      "text/plain": [
       "7126.660000000006"
      ]
     },
     "execution_count": 137,
     "metadata": {},
     "output_type": "execute_result"
    }
   ],
   "source": [
    "# proportion we need to remove = about 98%\n",
    "(token_prop_dict['same'] - 0.01)/token_prop_dict['same']\n",
    "# number of items to sample\n",
    "(1 - 0.98) * 356333"
   ]
  },
  {
   "cell_type": "code",
   "execution_count": 138,
   "id": "9e69ec4d",
   "metadata": {},
   "outputs": [],
   "source": [
    "same_questions_subsample = set(random.sample(same_questions, 7126))"
   ]
  },
  {
   "cell_type": "code",
   "execution_count": 139,
   "id": "bc9d29d6",
   "metadata": {},
   "outputs": [],
   "source": [
    "same_questions_notincluded = same_questions - same_questions_subsample"
   ]
  },
  {
   "cell_type": "markdown",
   "id": "8456424e",
   "metadata": {},
   "source": [
    "#### LESS"
   ]
  },
  {
   "cell_type": "code",
   "execution_count": 77,
   "id": "66d0c23b",
   "metadata": {},
   "outputs": [],
   "source": [
    "less_questions = get_questions_with_word(\" fewer \")"
   ]
  },
  {
   "cell_type": "code",
   "execution_count": 78,
   "id": "3934d087",
   "metadata": {},
   "outputs": [
    {
     "data": {
      "text/plain": [
       "11851"
      ]
     },
     "execution_count": 78,
     "metadata": {},
     "output_type": "execute_result"
    }
   ],
   "source": [
    "len(less_questions)"
   ]
  },
  {
   "cell_type": "code",
   "execution_count": 132,
   "id": "6c917f7f",
   "metadata": {},
   "outputs": [
    {
     "data": {
      "text/plain": [
       "592.5500000000005"
      ]
     },
     "execution_count": 132,
     "metadata": {},
     "output_type": "execute_result"
    }
   ],
   "source": [
    "# proportion we need to remove = about 95%\n",
    "(token_prop_dict['fewer'] - 0.0007)/token_prop_dict['fewer']\n",
    "# number of items to sample\n",
    "(1 - 0.95) * 11851"
   ]
  },
  {
   "cell_type": "code",
   "execution_count": 133,
   "id": "65a1a5e0",
   "metadata": {},
   "outputs": [],
   "source": [
    "less_questions_subsample = set(random.sample(less_questions, 592))"
   ]
  },
  {
   "cell_type": "code",
   "execution_count": 134,
   "id": "2c77cb82",
   "metadata": {},
   "outputs": [],
   "source": [
    "less_questions_notincluded = less_questions - less_questions_subsample"
   ]
  },
  {
   "cell_type": "markdown",
   "id": "b5f7990d",
   "metadata": {},
   "source": [
    "#### BEHIND"
   ]
  },
  {
   "cell_type": "code",
   "execution_count": 82,
   "id": "7becf249",
   "metadata": {},
   "outputs": [],
   "source": [
    "behind_questions = get_questions_with_word(\" behind \")"
   ]
  },
  {
   "cell_type": "code",
   "execution_count": 83,
   "id": "d15a4fe2",
   "metadata": {},
   "outputs": [
    {
     "data": {
      "text/plain": [
       "134723"
      ]
     },
     "execution_count": 83,
     "metadata": {},
     "output_type": "execute_result"
    }
   ],
   "source": [
    "len(behind_questions)"
   ]
  },
  {
   "cell_type": "code",
   "execution_count": 141,
   "id": "57f3eec1",
   "metadata": {},
   "outputs": [
    {
     "data": {
      "text/plain": [
       "8083.380000000007"
      ]
     },
     "execution_count": 141,
     "metadata": {},
     "output_type": "execute_result"
    }
   ],
   "source": [
    "# proportion we need to remove = about 94%\n",
    "(token_prop_dict['behind'] - 0.01)/token_prop_dict['behind']\n",
    "# number of items to sample\n",
    "(1 - 0.94) * 134723"
   ]
  },
  {
   "cell_type": "code",
   "execution_count": 142,
   "id": "1afbbcbc",
   "metadata": {},
   "outputs": [],
   "source": [
    "behind_questions_subsample = set(random.sample(behind_questions, 8083))"
   ]
  },
  {
   "cell_type": "code",
   "execution_count": 143,
   "id": "4d25ff0f",
   "metadata": {},
   "outputs": [],
   "source": [
    "behind_questions_notincluded = behind_questions - behind_questions_subsample"
   ]
  },
  {
   "cell_type": "markdown",
   "id": "ae4a2a15",
   "metadata": {},
   "source": [
    "#### IN FRONT"
   ]
  },
  {
   "cell_type": "code",
   "execution_count": 87,
   "id": "4bca22ca",
   "metadata": {},
   "outputs": [],
   "source": [
    "front_questions = get_questions_with_word(\" front \")"
   ]
  },
  {
   "cell_type": "code",
   "execution_count": 88,
   "id": "0b669003",
   "metadata": {},
   "outputs": [
    {
     "data": {
      "text/plain": [
       "135110"
      ]
     },
     "execution_count": 88,
     "metadata": {},
     "output_type": "execute_result"
    }
   ],
   "source": [
    "len(front_questions)"
   ]
  },
  {
   "cell_type": "code",
   "execution_count": 146,
   "id": "eef8f1c8",
   "metadata": {},
   "outputs": [
    {
     "data": {
      "text/plain": [
       "1351.1000000000013"
      ]
     },
     "execution_count": 146,
     "metadata": {},
     "output_type": "execute_result"
    }
   ],
   "source": [
    "# proportion we need to remove = about 99%\n",
    "(token_prop_dict['in front'] - 0.002)/token_prop_dict['in front']\n",
    "# number of items to sample\n",
    "(1 - 0.99) * 135110"
   ]
  },
  {
   "cell_type": "code",
   "execution_count": 147,
   "id": "15ac5b39",
   "metadata": {},
   "outputs": [],
   "source": [
    "front_questions_subsample = set(random.sample(front_questions, 1351))"
   ]
  },
  {
   "cell_type": "code",
   "execution_count": 148,
   "id": "f80660c2",
   "metadata": {},
   "outputs": [],
   "source": [
    "front_questions_notincluded = front_questions - front_questions_subsample"
   ]
  },
  {
   "cell_type": "markdown",
   "id": "c45966db",
   "metadata": {},
   "source": [
    "#### AND"
   ]
  },
  {
   "cell_type": "code",
   "execution_count": 92,
   "id": "df0bdf23",
   "metadata": {},
   "outputs": [],
   "source": [
    "and_questions = get_questions_with_word(\" and \")"
   ]
  },
  {
   "cell_type": "code",
   "execution_count": 93,
   "id": "3c1e054f",
   "metadata": {},
   "outputs": [
    {
     "data": {
      "text/plain": [
       "81506"
      ]
     },
     "execution_count": 93,
     "metadata": {},
     "output_type": "execute_result"
    }
   ],
   "source": [
    "len(and_questions)"
   ]
  },
  {
   "cell_type": "markdown",
   "id": "3dc787f5",
   "metadata": {},
   "source": [
    "#### OR"
   ]
  },
  {
   "cell_type": "code",
   "execution_count": 94,
   "id": "a92d7bf2",
   "metadata": {},
   "outputs": [],
   "source": [
    "or_questions = get_questions_with_word(\" or \")"
   ]
  },
  {
   "cell_type": "code",
   "execution_count": 95,
   "id": "5ebeef82",
   "metadata": {},
   "outputs": [
    {
     "data": {
      "text/plain": [
       "63214"
      ]
     },
     "execution_count": 95,
     "metadata": {},
     "output_type": "execute_result"
    }
   ],
   "source": [
    "len(or_questions)"
   ]
  },
  {
   "cell_type": "markdown",
   "id": "0325aaad",
   "metadata": {},
   "source": [
    "#### MORE"
   ]
  },
  {
   "cell_type": "code",
   "execution_count": 96,
   "id": "9f1bf84a",
   "metadata": {},
   "outputs": [],
   "source": [
    "more_questions = get_questions_with_word(\" more \")"
   ]
  },
  {
   "cell_type": "code",
   "execution_count": 97,
   "id": "71a9ee68",
   "metadata": {},
   "outputs": [
    {
     "data": {
      "text/plain": [
       "11570"
      ]
     },
     "execution_count": 97,
     "metadata": {},
     "output_type": "execute_result"
    }
   ],
   "source": [
    "len(more_questions)"
   ]
  },
  {
   "cell_type": "markdown",
   "id": "05027171",
   "metadata": {},
   "source": [
    "#### UNION SET"
   ]
  },
  {
   "cell_type": "code",
   "execution_count": 149,
   "id": "02f5162c",
   "metadata": {},
   "outputs": [],
   "source": [
    "union_questions = more_questions | or_questions | and_questions | front_questions_subsample | behind_questions_subsample |less_questions_subsample | same_questions_subsample"
   ]
  },
  {
   "cell_type": "code",
   "execution_count": 151,
   "id": "77aa755e",
   "metadata": {},
   "outputs": [
    {
     "data": {
      "text/plain": [
       "262904"
      ]
     },
     "execution_count": 151,
     "metadata": {},
     "output_type": "execute_result"
    }
   ],
   "source": [
    "len(union_questions) + 81506 + 11570"
   ]
  },
  {
   "cell_type": "markdown",
   "id": "c780c834",
   "metadata": {},
   "source": [
    "#### get new frequency prop"
   ]
  },
  {
   "cell_type": "code",
   "execution_count": 152,
   "id": "029ef8bd",
   "metadata": {},
   "outputs": [],
   "source": [
    "subsampled_questions_dict = {x : questions_dict[x] for x in union_questions}"
   ]
  },
  {
   "cell_type": "code",
   "execution_count": 153,
   "id": "1d5af7ae",
   "metadata": {},
   "outputs": [],
   "source": [
    "data, total_word_count = get_total_word_count_and_data(subsampled_questions_dict)"
   ]
  },
  {
   "cell_type": "code",
   "execution_count": 154,
   "id": "6c2ef198",
   "metadata": {},
   "outputs": [
    {
     "data": {
      "text/plain": [
       "3248758"
      ]
     },
     "execution_count": 154,
     "metadata": {},
     "output_type": "execute_result"
    }
   ],
   "source": [
    "total_word_count"
   ]
  },
  {
   "cell_type": "code",
   "execution_count": 159,
   "id": "e3eb8b27",
   "metadata": {},
   "outputs": [],
   "source": [
    "token_count_dict = get_token_counts(data)"
   ]
  },
  {
   "cell_type": "code",
   "execution_count": 160,
   "id": "fd95a68f",
   "metadata": {},
   "outputs": [
    {
     "data": {
      "text/plain": [
       "{'and': 81506,\n",
       " 'or': 63214,\n",
       " 'more': 11570,\n",
       " 'fewer': 776,\n",
       " 'behind': 48772,\n",
       " 'in front': 44853,\n",
       " 'same': 44921}"
      ]
     },
     "execution_count": 160,
     "metadata": {},
     "output_type": "execute_result"
    }
   ],
   "source": [
    "token_count_dict"
   ]
  },
  {
   "cell_type": "code",
   "execution_count": 161,
   "id": "5e2386bf",
   "metadata": {},
   "outputs": [],
   "source": [
    "token_count_dict['and'] = token_count_dict['and']*2"
   ]
  },
  {
   "cell_type": "code",
   "execution_count": 162,
   "id": "597eb676",
   "metadata": {},
   "outputs": [],
   "source": [
    "token_count_dict['more'] = token_count_dict['more']*2"
   ]
  },
  {
   "cell_type": "code",
   "execution_count": 163,
   "id": "689e52a9",
   "metadata": {},
   "outputs": [],
   "source": [
    "sum_count = sum([token_count_dict[k] for k in token_count_dict.keys()])"
   ]
  },
  {
   "cell_type": "code",
   "execution_count": 164,
   "id": "4ab0c26b",
   "metadata": {},
   "outputs": [
    {
     "data": {
      "text/plain": [
       "388688"
      ]
     },
     "execution_count": 164,
     "metadata": {},
     "output_type": "execute_result"
    }
   ],
   "source": [
    "sum_count"
   ]
  },
  {
   "cell_type": "code",
   "execution_count": 165,
   "id": "9603549a",
   "metadata": {},
   "outputs": [],
   "source": [
    "token_prop_dict = {k:(v/sum_count) for k,v in token_count_dict.items()}"
   ]
  },
  {
   "cell_type": "code",
   "execution_count": 166,
   "id": "3303f80e",
   "metadata": {
    "scrolled": true
   },
   "outputs": [
    {
     "data": {
      "text/plain": [
       "{'and': 0.4193903593627794,\n",
       " 'or': 0.16263429794591033,\n",
       " 'more': 0.05953361050508377,\n",
       " 'fewer': 0.0019964598855637425,\n",
       " 'behind': 0.125478532910715,\n",
       " 'in front': 0.11539589593710123,\n",
       " 'same': 0.1155708434528465}"
      ]
     },
     "execution_count": 166,
     "metadata": {},
     "output_type": "execute_result"
    }
   ],
   "source": [
    "token_prop_dict"
   ]
  },
  {
   "cell_type": "markdown",
   "id": "16613747",
   "metadata": {},
   "source": [
    "### Downsample again"
   ]
  },
  {
   "cell_type": "markdown",
   "id": "26b95f8b",
   "metadata": {},
   "source": [
    "#### SAME"
   ]
  },
  {
   "cell_type": "code",
   "execution_count": 167,
   "id": "929fb148",
   "metadata": {},
   "outputs": [
    {
     "data": {
      "text/plain": [
       "7126"
      ]
     },
     "execution_count": 167,
     "metadata": {},
     "output_type": "execute_result"
    }
   ],
   "source": [
    "len(same_questions_subsample)"
   ]
  },
  {
   "cell_type": "code",
   "execution_count": 169,
   "id": "ba5c999b",
   "metadata": {},
   "outputs": [
    {
     "data": {
      "text/plain": [
       "641.3399999999998"
      ]
     },
     "execution_count": 169,
     "metadata": {},
     "output_type": "execute_result"
    }
   ],
   "source": [
    "# proportion we need to remove = about 91%\n",
    "(token_prop_dict['same'] - 0.01)/token_prop_dict['same']\n",
    "# number of items to sample\n",
    "(1 - 0.91) * 7126"
   ]
  },
  {
   "cell_type": "code",
   "execution_count": 188,
   "id": "b7741936",
   "metadata": {},
   "outputs": [],
   "source": [
    "same_questions_subsample = set(random.sample(same_questions, 641))"
   ]
  },
  {
   "cell_type": "code",
   "execution_count": 189,
   "id": "02304180",
   "metadata": {},
   "outputs": [],
   "source": [
    "same_questions_notincluded = same_questions - same_questions_subsample"
   ]
  },
  {
   "cell_type": "markdown",
   "id": "55c641a7",
   "metadata": {},
   "source": [
    "#### LESS"
   ]
  },
  {
   "cell_type": "code",
   "execution_count": 172,
   "id": "863a1f4a",
   "metadata": {},
   "outputs": [
    {
     "data": {
      "text/plain": [
       "592"
      ]
     },
     "execution_count": 172,
     "metadata": {},
     "output_type": "execute_result"
    }
   ],
   "source": [
    "len(less_questions_subsample)"
   ]
  },
  {
   "cell_type": "code",
   "execution_count": 174,
   "id": "c681d440",
   "metadata": {},
   "outputs": [
    {
     "data": {
      "text/plain": [
       "207.2"
      ]
     },
     "execution_count": 174,
     "metadata": {},
     "output_type": "execute_result"
    }
   ],
   "source": [
    "# proportion we need to remove = about 65%\n",
    "(token_prop_dict['fewer'] - 0.0007)/token_prop_dict['fewer']\n",
    "# number of items to sample\n",
    "(1 - 0.65) * 592"
   ]
  },
  {
   "cell_type": "code",
   "execution_count": 179,
   "id": "b22401e6",
   "metadata": {},
   "outputs": [],
   "source": [
    "less_questions_subsample = set(random.sample(less_questions, 207))"
   ]
  },
  {
   "cell_type": "code",
   "execution_count": 180,
   "id": "3c09fec8",
   "metadata": {},
   "outputs": [],
   "source": [
    "less_questions_notincluded = less_questions - less_questions_subsample"
   ]
  },
  {
   "cell_type": "markdown",
   "id": "4d6af543",
   "metadata": {},
   "source": [
    "#### BEHIND"
   ]
  },
  {
   "cell_type": "code",
   "execution_count": 183,
   "id": "55f2d088",
   "metadata": {},
   "outputs": [
    {
     "data": {
      "text/plain": [
       "8083"
      ]
     },
     "execution_count": 183,
     "metadata": {},
     "output_type": "execute_result"
    }
   ],
   "source": [
    "len(behind_questions_subsample)"
   ]
  },
  {
   "cell_type": "code",
   "execution_count": 184,
   "id": "8cffc2a7",
   "metadata": {},
   "outputs": [
    {
     "data": {
      "text/plain": [
       "646.6399999999996"
      ]
     },
     "execution_count": 184,
     "metadata": {},
     "output_type": "execute_result"
    }
   ],
   "source": [
    "# proportion we need to remove = about 92%\n",
    "(token_prop_dict['behind'] - 0.01)/token_prop_dict['behind']\n",
    "# number of items to sample\n",
    "(1 - 0.92) * 8083"
   ]
  },
  {
   "cell_type": "code",
   "execution_count": 190,
   "id": "c888eb5a",
   "metadata": {},
   "outputs": [],
   "source": [
    "behind_questions_subsample = set(random.sample(behind_questions, 646))"
   ]
  },
  {
   "cell_type": "code",
   "execution_count": 191,
   "id": "298c6605",
   "metadata": {},
   "outputs": [],
   "source": [
    "behind_questions_notincluded = behind_questions - behind_questions_subsample"
   ]
  },
  {
   "cell_type": "markdown",
   "id": "2c098bf1",
   "metadata": {},
   "source": [
    "#### IN FRONT"
   ]
  },
  {
   "cell_type": "code",
   "execution_count": 192,
   "id": "eefe179d",
   "metadata": {},
   "outputs": [
    {
     "data": {
      "text/plain": [
       "1351"
      ]
     },
     "execution_count": 192,
     "metadata": {},
     "output_type": "execute_result"
    }
   ],
   "source": [
    "len(front_questions_subsample)"
   ]
  },
  {
   "cell_type": "code",
   "execution_count": 194,
   "id": "ef60a8b7",
   "metadata": {},
   "outputs": [
    {
     "data": {
      "text/plain": [
       "27.020000000000024"
      ]
     },
     "execution_count": 194,
     "metadata": {},
     "output_type": "execute_result"
    }
   ],
   "source": [
    "# proportion we need to remove = about 98%\n",
    "(token_prop_dict['in front'] - 0.002)/token_prop_dict['in front']\n",
    "# number of items to sample\n",
    "(1 - 0.98) * 1351"
   ]
  },
  {
   "cell_type": "code",
   "execution_count": 195,
   "id": "53e47860",
   "metadata": {},
   "outputs": [],
   "source": [
    "front_questions_subsample = set(random.sample(front_questions, 27))"
   ]
  },
  {
   "cell_type": "code",
   "execution_count": 196,
   "id": "461b1103",
   "metadata": {},
   "outputs": [],
   "source": [
    "front_questions_notincluded = front_questions - front_questions_subsample"
   ]
  },
  {
   "cell_type": "markdown",
   "id": "c8f189bf",
   "metadata": {},
   "source": [
    "#### OR"
   ]
  },
  {
   "cell_type": "code",
   "execution_count": 197,
   "id": "c5251a4a",
   "metadata": {},
   "outputs": [
    {
     "data": {
      "text/plain": [
       "63214"
      ]
     },
     "execution_count": 197,
     "metadata": {},
     "output_type": "execute_result"
    }
   ],
   "source": [
    "len(or_questions)"
   ]
  },
  {
   "cell_type": "code",
   "execution_count": 199,
   "id": "9f087ea0",
   "metadata": {},
   "outputs": [
    {
     "data": {
      "text/plain": [
       "31607.0"
      ]
     },
     "execution_count": 199,
     "metadata": {},
     "output_type": "execute_result"
    }
   ],
   "source": [
    "# proportion we need to remove = about 0.5%\n",
    "(token_prop_dict['or'] - 0.08)/token_prop_dict['or']\n",
    "# number of items to sample\n",
    "(1 - 0.5) * 63214"
   ]
  },
  {
   "cell_type": "code",
   "execution_count": 200,
   "id": "4c4ce7c7",
   "metadata": {},
   "outputs": [],
   "source": [
    "or_questions_subsample = set(random.sample(or_questions, 31607))"
   ]
  },
  {
   "cell_type": "code",
   "execution_count": 201,
   "id": "3bb82138",
   "metadata": {},
   "outputs": [],
   "source": [
    "or_questions_notincluded = or_questions - or_questions_subsample"
   ]
  },
  {
   "cell_type": "markdown",
   "id": "b3a5bff7",
   "metadata": {},
   "source": [
    "#### UNION SET"
   ]
  },
  {
   "cell_type": "code",
   "execution_count": 202,
   "id": "7ab4e800",
   "metadata": {},
   "outputs": [],
   "source": [
    "union_questions = more_questions | or_questions_subsample | and_questions | front_questions_subsample | behind_questions_subsample |less_questions_subsample | same_questions_subsample"
   ]
  },
  {
   "cell_type": "code",
   "execution_count": 203,
   "id": "a1bc2b97",
   "metadata": {},
   "outputs": [
    {
     "data": {
      "text/plain": [
       "219034"
      ]
     },
     "execution_count": 203,
     "metadata": {},
     "output_type": "execute_result"
    }
   ],
   "source": [
    "len(union_questions) + 81506 + 11570"
   ]
  },
  {
   "cell_type": "markdown",
   "id": "7f6a561d",
   "metadata": {},
   "source": [
    "#### get new frequency prop"
   ]
  },
  {
   "cell_type": "code",
   "execution_count": 204,
   "id": "d6e1091b",
   "metadata": {},
   "outputs": [],
   "source": [
    "subsampled_questions_dict = {x : questions_dict[x] for x in union_questions}"
   ]
  },
  {
   "cell_type": "code",
   "execution_count": 205,
   "id": "3747d4b8",
   "metadata": {},
   "outputs": [],
   "source": [
    "data, total_word_count = get_total_word_count_and_data(subsampled_questions_dict)"
   ]
  },
  {
   "cell_type": "code",
   "execution_count": 206,
   "id": "62874a7e",
   "metadata": {},
   "outputs": [
    {
     "data": {
      "text/plain": [
       "2515827"
      ]
     },
     "execution_count": 206,
     "metadata": {},
     "output_type": "execute_result"
    }
   ],
   "source": [
    "total_word_count"
   ]
  },
  {
   "cell_type": "code",
   "execution_count": 207,
   "id": "3a7615f2",
   "metadata": {},
   "outputs": [],
   "source": [
    "token_count_dict = get_token_counts(data)"
   ]
  },
  {
   "cell_type": "code",
   "execution_count": 208,
   "id": "637ad9de",
   "metadata": {},
   "outputs": [
    {
     "data": {
      "text/plain": [
       "{'and': 81506,\n",
       " 'or': 31627,\n",
       " 'more': 11570,\n",
       " 'fewer': 219,\n",
       " 'behind': 38165,\n",
       " 'in front': 38022,\n",
       " 'same': 37508}"
      ]
     },
     "execution_count": 208,
     "metadata": {},
     "output_type": "execute_result"
    }
   ],
   "source": [
    "token_count_dict"
   ]
  },
  {
   "cell_type": "code",
   "execution_count": 209,
   "id": "01768544",
   "metadata": {},
   "outputs": [],
   "source": [
    "token_count_dict['and'] = token_count_dict['and']*2"
   ]
  },
  {
   "cell_type": "code",
   "execution_count": 210,
   "id": "2b6ec0c0",
   "metadata": {},
   "outputs": [],
   "source": [
    "token_count_dict['more'] = token_count_dict['more']*2"
   ]
  },
  {
   "cell_type": "code",
   "execution_count": 211,
   "id": "88011819",
   "metadata": {},
   "outputs": [],
   "source": [
    "sum_count = sum([token_count_dict[k] for k in token_count_dict.keys()])"
   ]
  },
  {
   "cell_type": "code",
   "execution_count": 212,
   "id": "db2b0508",
   "metadata": {},
   "outputs": [
    {
     "data": {
      "text/plain": [
       "331693"
      ]
     },
     "execution_count": 212,
     "metadata": {},
     "output_type": "execute_result"
    }
   ],
   "source": [
    "sum_count"
   ]
  },
  {
   "cell_type": "code",
   "execution_count": 213,
   "id": "f0bad4fd",
   "metadata": {},
   "outputs": [],
   "source": [
    "token_prop_dict = {k:(v/sum_count) for k,v in token_count_dict.items()}"
   ]
  },
  {
   "cell_type": "code",
   "execution_count": 214,
   "id": "d1747677",
   "metadata": {
    "scrolled": true
   },
   "outputs": [
    {
     "data": {
      "text/plain": [
       "{'and': 0.4914544473353372,\n",
       " 'or': 0.09535021842486878,\n",
       " 'more': 0.06976330522501228,\n",
       " 'fewer': 0.0006602490857509805,\n",
       " 'behind': 0.11506121624514234,\n",
       " 'in front': 0.11463009469599901,\n",
       " 'same': 0.1130804689878894}"
      ]
     },
     "execution_count": 214,
     "metadata": {},
     "output_type": "execute_result"
    }
   ],
   "source": [
    "token_prop_dict"
   ]
  },
  {
   "cell_type": "code",
   "execution_count": null,
   "id": "1ed186f1",
   "metadata": {},
   "outputs": [],
   "source": [
    "### Remove more behind, in front, same questions that do not have 'and', 'or', 'more', 'fewer'"
   ]
  },
  {
   "cell_type": "code",
   "execution_count": 215,
   "id": "99dd8ae4",
   "metadata": {},
   "outputs": [
    {
     "data": {
      "text/plain": [
       "81506"
      ]
     },
     "execution_count": 215,
     "metadata": {},
     "output_type": "execute_result"
    }
   ],
   "source": [
    "len(and_questions)"
   ]
  },
  {
   "cell_type": "code",
   "execution_count": 216,
   "id": "df67a75f",
   "metadata": {},
   "outputs": [
    {
     "data": {
      "text/plain": [
       "29775"
      ]
     },
     "execution_count": 216,
     "metadata": {},
     "output_type": "execute_result"
    }
   ],
   "source": [
    "len(and_questions & behind_questions_notincluded)"
   ]
  },
  {
   "cell_type": "code",
   "execution_count": 217,
   "id": "f83be0e4",
   "metadata": {},
   "outputs": [
    {
     "data": {
      "text/plain": [
       "0.3653105292861875"
      ]
     },
     "execution_count": 217,
     "metadata": {},
     "output_type": "execute_result"
    }
   ],
   "source": [
    "29775/81506"
   ]
  },
  {
   "cell_type": "code",
   "execution_count": 218,
   "id": "7ed77300",
   "metadata": {},
   "outputs": [
    {
     "data": {
      "text/plain": [
       "30214"
      ]
     },
     "execution_count": 218,
     "metadata": {},
     "output_type": "execute_result"
    }
   ],
   "source": [
    "len(and_questions & front_questions_notincluded)"
   ]
  },
  {
   "cell_type": "code",
   "execution_count": 220,
   "id": "40763c6b",
   "metadata": {},
   "outputs": [
    {
     "data": {
      "text/plain": [
       "1454"
      ]
     },
     "execution_count": 220,
     "metadata": {},
     "output_type": "execute_result"
    }
   ],
   "source": [
    "len(and_questions & behind_questions_notincluded & front_questions_notincluded & same_questions_notincluded)"
   ]
  },
  {
   "cell_type": "code",
   "execution_count": 221,
   "id": "d4bc0193",
   "metadata": {},
   "outputs": [],
   "source": [
    "and_questions_without = and_questions - (and_questions & behind_questions_notincluded & front_questions_notincluded & same_questions_notincluded)"
   ]
  },
  {
   "cell_type": "code",
   "execution_count": 222,
   "id": "cc893b48",
   "metadata": {},
   "outputs": [
    {
     "data": {
      "text/plain": [
       "80052"
      ]
     },
     "execution_count": 222,
     "metadata": {},
     "output_type": "execute_result"
    }
   ],
   "source": [
    "len(and_questions_without)"
   ]
  },
  {
   "cell_type": "code",
   "execution_count": 223,
   "id": "4260d7e3",
   "metadata": {},
   "outputs": [
    {
     "data": {
      "text/plain": [
       "9019"
      ]
     },
     "execution_count": 223,
     "metadata": {},
     "output_type": "execute_result"
    }
   ],
   "source": [
    "len(and_questions - (behind_questions_notincluded | front_questions_notincluded | same_questions_notincluded))"
   ]
  },
  {
   "cell_type": "code",
   "execution_count": 224,
   "id": "0bcb414f",
   "metadata": {},
   "outputs": [
    {
     "data": {
      "text/plain": [
       "0.11065443034868598"
      ]
     },
     "execution_count": 224,
     "metadata": {},
     "output_type": "execute_result"
    }
   ],
   "source": [
    "9019/81506"
   ]
  },
  {
   "cell_type": "code",
   "execution_count": 226,
   "id": "b696a489",
   "metadata": {},
   "outputs": [
    {
     "name": "stdout",
     "output_type": "stream",
     "text": [
      "Wed Feb  9 08:36:44 2022       \r\n",
      "+-----------------------------------------------------------------------------+\r\n",
      "| NVIDIA-SMI 455.23.04    Driver Version: 455.23.04    CUDA Version: 11.1     |\r\n",
      "|-------------------------------+----------------------+----------------------+\r\n",
      "| GPU  Name        Persistence-M| Bus-Id        Disp.A | Volatile Uncorr. ECC |\r\n",
      "| Fan  Temp  Perf  Pwr:Usage/Cap|         Memory-Usage | GPU-Util  Compute M. |\r\n",
      "|                               |                      |               MIG M. |\r\n",
      "|===============================+======================+======================|\r\n",
      "|   0  GeForce RTX 3080    Off  | 00000000:01:00.0 Off |                  N/A |\r\n",
      "| 30%   46C    P2   144W / 320W |   8509MiB / 10015MiB |      0%      Default |\r\n",
      "|                               |                      |                  N/A |\r\n",
      "+-------------------------------+----------------------+----------------------+\r\n",
      "                                                                               \r\n",
      "+-----------------------------------------------------------------------------+\r\n",
      "| Processes:                                                                  |\r\n",
      "|  GPU   GI   CI        PID   Type   Process name                  GPU Memory |\r\n",
      "|        ID   ID                                                   Usage      |\r\n",
      "|=============================================================================|\r\n",
      "|    0   N/A  N/A       792      G   /usr/lib/xorg/Xorg                 56MiB |\r\n",
      "|    0   N/A  N/A      1001      G   /usr/bin/gnome-shell                9MiB |\r\n",
      "|    0   N/A  N/A     55775      C   python                           8439MiB |\r\n",
      "+-----------------------------------------------------------------------------+\r\n"
     ]
    }
   ],
   "source": [
    "!nvidia-smi"
   ]
  },
  {
   "cell_type": "code",
   "execution_count": null,
   "id": "15ee105a",
   "metadata": {},
   "outputs": [],
   "source": []
  }
 ],
 "metadata": {
  "kernelspec": {
   "display_name": "Python 3",
   "language": "python",
   "name": "python3"
  },
  "language_info": {
   "codemirror_mode": {
    "name": "ipython",
    "version": 3
   },
   "file_extension": ".py",
   "mimetype": "text/x-python",
   "name": "python",
   "nbconvert_exporter": "python",
   "pygments_lexer": "ipython3",
   "version": "3.8.8"
  }
 },
 "nbformat": 4,
 "nbformat_minor": 5
}
