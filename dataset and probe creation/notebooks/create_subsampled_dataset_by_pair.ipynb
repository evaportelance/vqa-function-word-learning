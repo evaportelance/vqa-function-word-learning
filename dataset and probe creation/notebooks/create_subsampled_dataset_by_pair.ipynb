{
 "cells": [
  {
   "cell_type": "code",
   "execution_count": 1,
   "id": "a5fc1919",
   "metadata": {},
   "outputs": [],
   "source": [
    "import os\n",
    "import json\n",
    "import random"
   ]
  },
  {
   "cell_type": "code",
   "execution_count": 2,
   "id": "06a8560f",
   "metadata": {},
   "outputs": [],
   "source": [
    "train_q_file = \"../../data/CLEVR_v1/data/CLEVR_train_questions.json\""
   ]
  },
  {
   "cell_type": "code",
   "execution_count": 3,
   "id": "d0c9e577",
   "metadata": {},
   "outputs": [],
   "source": [
    "with open(train_q_file) as f:\n",
    "    train_questions = json.load(f)"
   ]
  },
  {
   "cell_type": "code",
   "execution_count": 4,
   "id": "ed34d759",
   "metadata": {},
   "outputs": [],
   "source": [
    "info = train_questions['info']\n",
    "questions = train_questions['questions']"
   ]
  },
  {
   "cell_type": "code",
   "execution_count": 5,
   "id": "115d9d33",
   "metadata": {},
   "outputs": [],
   "source": [
    "questions_dict = {}\n",
    "for q in questions:\n",
    "    questions_dict[q['question_index']] = q"
   ]
  },
  {
   "cell_type": "markdown",
   "id": "728f2465",
   "metadata": {},
   "source": [
    "# Sampling a CHILDES-like CLEVR dataset by word pair"
   ]
  },
  {
   "cell_type": "code",
   "execution_count": 6,
   "id": "c8c63276",
   "metadata": {},
   "outputs": [],
   "source": [
    "def get_questions_with_word(word):\n",
    "    word_questions = set()\n",
    "    for k,v in questions_dict.items():\n",
    "        if word in v['question']:\n",
    "            word_questions.add(k)\n",
    "    return word_questions"
   ]
  },
  {
   "cell_type": "code",
   "execution_count": 7,
   "id": "8353703a",
   "metadata": {},
   "outputs": [],
   "source": [
    "def get_total_word_count_and_data(subsampled_questions_dict):\n",
    "    total_word_count = 0\n",
    "    data = []\n",
    "    for k,q in subsampled_questions_dict.items():\n",
    "        line = q['question']\n",
    "        line = line.strip('?').lower()\n",
    "        line_as_list = line.split(\" \")\n",
    "        data += line_as_list\n",
    "        total_word_count += len(line_as_list)\n",
    "    return data, total_word_count\n",
    "\n",
    "def get_token_counts(data):\n",
    "    word_set = {\"and\", \"or\", \"more\", \"fewer\", \"behind\", \"front\", \"same\"}\n",
    "    token_count_dict = {\"and\": 0, \"or\": 0, \"more\": 0, \"fewer\": 0, \"behind\": 0, \"in front\": 0, \"same\": 0}\n",
    "    prev_word = \"\"\n",
    "    for word in data:\n",
    "        if word in word_set:\n",
    "            if word == \"front\":\n",
    "                if prev_word == \"in\":\n",
    "                    token_count_dict[\"in front\"] += 1\n",
    "            else:\n",
    "                token_count_dict[word] += 1\n",
    "        prev_word = word\n",
    "    return token_count_dict"
   ]
  },
  {
   "cell_type": "markdown",
   "id": "5fc03ef1",
   "metadata": {},
   "source": [
    "## AND - OR"
   ]
  },
  {
   "cell_type": "markdown",
   "id": "5959a227",
   "metadata": {},
   "source": [
    "CLEVR COUNTS\n",
    "AND 81506\n",
    "OR 63214\n",
    "total 144720"
   ]
  },
  {
   "cell_type": "code",
   "execution_count": 8,
   "id": "f4b9485e",
   "metadata": {},
   "outputs": [
    {
     "data": {
      "text/plain": [
       "0.5631978993919292"
      ]
     },
     "execution_count": 8,
     "metadata": {},
     "output_type": "execute_result"
    }
   ],
   "source": [
    "# CLEVR AND proportion\n",
    "81506 / 144720"
   ]
  },
  {
   "cell_type": "code",
   "execution_count": 9,
   "id": "0b36186c",
   "metadata": {},
   "outputs": [
    {
     "data": {
      "text/plain": [
       "0.43680210060807073"
      ]
     },
     "execution_count": 9,
     "metadata": {},
     "output_type": "execute_result"
    }
   ],
   "source": [
    "# CLEVR OR proportion\n",
    "63214 / 144720"
   ]
  },
  {
   "cell_type": "markdown",
   "id": "2c320e50",
   "metadata": {},
   "source": [
    "CHILDES COUNTS\n",
    "AND 217497\n",
    "OR 22975\n",
    "total 240472"
   ]
  },
  {
   "cell_type": "code",
   "execution_count": 10,
   "id": "001f55e3",
   "metadata": {},
   "outputs": [],
   "source": [
    "# CHILDES AND proportion\n",
    "and_prop = 217497 / 240472"
   ]
  },
  {
   "cell_type": "code",
   "execution_count": 11,
   "id": "4abe513a",
   "metadata": {},
   "outputs": [],
   "source": [
    "# CHILDES OR proportion\n",
    "or_prop = 22975 / 240472"
   ]
  },
  {
   "cell_type": "code",
   "execution_count": 12,
   "id": "aaad8cf0",
   "metadata": {},
   "outputs": [
    {
     "data": {
      "text/plain": [
       "81506"
      ]
     },
     "execution_count": 12,
     "metadata": {},
     "output_type": "execute_result"
    }
   ],
   "source": [
    "and_questions = get_questions_with_word(\" and \")\n",
    "len(and_questions)"
   ]
  },
  {
   "cell_type": "code",
   "execution_count": 13,
   "id": "ff21f267",
   "metadata": {},
   "outputs": [
    {
     "data": {
      "text/plain": [
       "63214"
      ]
     },
     "execution_count": 13,
     "metadata": {},
     "output_type": "execute_result"
    }
   ],
   "source": [
    "or_questions = get_questions_with_word(\" or \")\n",
    "len(or_questions)"
   ]
  },
  {
   "cell_type": "code",
   "execution_count": 14,
   "id": "c6e51335",
   "metadata": {},
   "outputs": [
    {
     "data": {
      "text/plain": [
       "0"
      ]
     },
     "execution_count": 14,
     "metadata": {},
     "output_type": "execute_result"
    }
   ],
   "source": [
    "# how many questions at there intersection?\n",
    "len(and_questions & or_questions)"
   ]
  },
  {
   "cell_type": "code",
   "execution_count": 15,
   "id": "1a69ea1e",
   "metadata": {},
   "outputs": [],
   "source": [
    "#Downsample OR question \n",
    "n_or = 81506 * or_prop / and_prop"
   ]
  },
  {
   "cell_type": "code",
   "execution_count": 16,
   "id": "8cd0f065",
   "metadata": {},
   "outputs": [],
   "source": [
    "or_questions_subsample = set(random.sample(or_questions, int(round(n_or,0))))"
   ]
  },
  {
   "cell_type": "code",
   "execution_count": 17,
   "id": "545140a2",
   "metadata": {},
   "outputs": [
    {
     "data": {
      "text/plain": [
       "8610"
      ]
     },
     "execution_count": 17,
     "metadata": {},
     "output_type": "execute_result"
    }
   ],
   "source": [
    "len(or_questions_subsample)"
   ]
  },
  {
   "cell_type": "code",
   "execution_count": 18,
   "id": "220397d4",
   "metadata": {},
   "outputs": [],
   "source": [
    "and_or_questions = and_questions | or_questions_subsample"
   ]
  },
  {
   "cell_type": "markdown",
   "id": "ed301053",
   "metadata": {},
   "source": [
    "## MORE - LESS"
   ]
  },
  {
   "cell_type": "markdown",
   "id": "78fcdb1b",
   "metadata": {},
   "source": [
    "CLEVR COUNTS\n",
    "MORE 11570\n",
    "LESS/FEWER 11851\n",
    "total 23421"
   ]
  },
  {
   "cell_type": "code",
   "execution_count": 19,
   "id": "8d500477",
   "metadata": {},
   "outputs": [
    {
     "data": {
      "text/plain": [
       "0.4940011101148542"
      ]
     },
     "execution_count": 19,
     "metadata": {},
     "output_type": "execute_result"
    }
   ],
   "source": [
    "# CLEVR MORE proportion\n",
    "11570 / 23421"
   ]
  },
  {
   "cell_type": "code",
   "execution_count": 20,
   "id": "552c1fa8",
   "metadata": {},
   "outputs": [
    {
     "data": {
      "text/plain": [
       "0.5059988898851459"
      ]
     },
     "execution_count": 20,
     "metadata": {},
     "output_type": "execute_result"
    }
   ],
   "source": [
    "# CLEVR MORE proportion\n",
    "11851 / 23421"
   ]
  },
  {
   "cell_type": "markdown",
   "id": "6d2235dd",
   "metadata": {},
   "source": [
    "CHILDES COUNTS\n",
    "MORE 23406\n",
    "LESS/FEWER 212\n",
    "total 23618"
   ]
  },
  {
   "cell_type": "code",
   "execution_count": 21,
   "id": "32ee8b92",
   "metadata": {},
   "outputs": [],
   "source": [
    "# CHILDES MORE proportion\n",
    "more_prop = 23406 / 23618"
   ]
  },
  {
   "cell_type": "code",
   "execution_count": 22,
   "id": "092dd7dc",
   "metadata": {},
   "outputs": [],
   "source": [
    "# CHILDES LESS proportion\n",
    "less_prop = 212 / 23618"
   ]
  },
  {
   "cell_type": "code",
   "execution_count": 23,
   "id": "f5181ee6",
   "metadata": {},
   "outputs": [
    {
     "data": {
      "text/plain": [
       "11570"
      ]
     },
     "execution_count": 23,
     "metadata": {},
     "output_type": "execute_result"
    }
   ],
   "source": [
    "more_questions = get_questions_with_word(\" more \")\n",
    "len(more_questions)"
   ]
  },
  {
   "cell_type": "code",
   "execution_count": 24,
   "id": "f8e504d6",
   "metadata": {},
   "outputs": [
    {
     "data": {
      "text/plain": [
       "11851"
      ]
     },
     "execution_count": 24,
     "metadata": {},
     "output_type": "execute_result"
    }
   ],
   "source": [
    "less_questions = get_questions_with_word(\" fewer \")\n",
    "len(less_questions)"
   ]
  },
  {
   "cell_type": "code",
   "execution_count": 25,
   "id": "9ab84c1b",
   "metadata": {},
   "outputs": [
    {
     "data": {
      "text/plain": [
       "0"
      ]
     },
     "execution_count": 25,
     "metadata": {},
     "output_type": "execute_result"
    }
   ],
   "source": [
    "# intersection with AND and OR ?\n",
    "len(less_questions & and_or_questions)"
   ]
  },
  {
   "cell_type": "code",
   "execution_count": 26,
   "id": "687c1745",
   "metadata": {},
   "outputs": [
    {
     "data": {
      "text/plain": [
       "0"
      ]
     },
     "execution_count": 26,
     "metadata": {},
     "output_type": "execute_result"
    }
   ],
   "source": [
    "# intersection with MORE ?\n",
    "len(less_questions & more_questions)"
   ]
  },
  {
   "cell_type": "code",
   "execution_count": 27,
   "id": "23d3fa17",
   "metadata": {},
   "outputs": [],
   "source": [
    "#Downsample LESS question \n",
    "n_less = 11570 * less_prop / more_prop"
   ]
  },
  {
   "cell_type": "code",
   "execution_count": 28,
   "id": "0aba7409",
   "metadata": {},
   "outputs": [],
   "source": [
    "less_questions_subsample = set(random.sample(less_questions, int(round(n_less,0))))"
   ]
  },
  {
   "cell_type": "code",
   "execution_count": 29,
   "id": "9d7c197b",
   "metadata": {},
   "outputs": [],
   "source": [
    "more_less_questions = more_questions | less_questions_subsample"
   ]
  },
  {
   "cell_type": "markdown",
   "id": "32a323d5",
   "metadata": {},
   "source": [
    "## BEHIND - FRONT"
   ]
  },
  {
   "cell_type": "markdown",
   "id": "27107795",
   "metadata": {},
   "source": [
    "CLEVR COUNTS\n",
    "BEHIND 147409\n",
    "FRONT 147506\n",
    "total 294915"
   ]
  },
  {
   "cell_type": "code",
   "execution_count": 30,
   "id": "eda19d96",
   "metadata": {},
   "outputs": [
    {
     "data": {
      "text/plain": [
       "0.49983554583524065"
      ]
     },
     "execution_count": 30,
     "metadata": {},
     "output_type": "execute_result"
    }
   ],
   "source": [
    "# CLEVR BEHIND proportion\n",
    "147409 / 294915"
   ]
  },
  {
   "cell_type": "code",
   "execution_count": 31,
   "id": "fe1571bb",
   "metadata": {},
   "outputs": [
    {
     "data": {
      "text/plain": [
       "0.5001644541647593"
      ]
     },
     "execution_count": 31,
     "metadata": {},
     "output_type": "execute_result"
    }
   ],
   "source": [
    "# CLEVR FRONT proportion\n",
    "147506 / 294915"
   ]
  },
  {
   "cell_type": "markdown",
   "id": "742809c0",
   "metadata": {},
   "source": [
    "CHILDES COUNTS\n",
    "BEHIND 2954\n",
    "IN FRONT 756\n",
    "total 3710"
   ]
  },
  {
   "cell_type": "code",
   "execution_count": 32,
   "id": "31e4bbda",
   "metadata": {},
   "outputs": [],
   "source": [
    "# CHILDES BEHIND proportion\n",
    "behind_prop = 2954 / 3710"
   ]
  },
  {
   "cell_type": "code",
   "execution_count": 33,
   "id": "3f03910b",
   "metadata": {},
   "outputs": [],
   "source": [
    "# CHILDES IN FRONT proportion\n",
    "front_prop = 756 / 3710"
   ]
  },
  {
   "cell_type": "code",
   "execution_count": 34,
   "id": "829c2112",
   "metadata": {},
   "outputs": [
    {
     "data": {
      "text/plain": [
       "0.2037735849056604"
      ]
     },
     "execution_count": 34,
     "metadata": {},
     "output_type": "execute_result"
    }
   ],
   "source": [
    "front_prop"
   ]
  },
  {
   "cell_type": "code",
   "execution_count": 35,
   "id": "2cb66ac3",
   "metadata": {},
   "outputs": [
    {
     "data": {
      "text/plain": [
       "134723"
      ]
     },
     "execution_count": 35,
     "metadata": {},
     "output_type": "execute_result"
    }
   ],
   "source": [
    "behind_questions = get_questions_with_word(\" behind \")\n",
    "len(behind_questions)"
   ]
  },
  {
   "cell_type": "code",
   "execution_count": 36,
   "id": "54aec255",
   "metadata": {},
   "outputs": [
    {
     "data": {
      "text/plain": [
       "125621"
      ]
     },
     "execution_count": 36,
     "metadata": {},
     "output_type": "execute_result"
    }
   ],
   "source": [
    "# remove already removed OR, LESS questions\n",
    "behind_questions_subsample = behind_questions - (or_questions - or_questions_subsample) - (less_questions - less_questions_subsample)\n",
    "len(behind_questions_subsample)"
   ]
  },
  {
   "cell_type": "code",
   "execution_count": 37,
   "id": "e25d6a66",
   "metadata": {},
   "outputs": [
    {
     "data": {
      "text/plain": [
       "135110"
      ]
     },
     "execution_count": 37,
     "metadata": {},
     "output_type": "execute_result"
    }
   ],
   "source": [
    "front_questions = get_questions_with_word(\" front \")\n",
    "len(front_questions)"
   ]
  },
  {
   "cell_type": "code",
   "execution_count": 38,
   "id": "da34b2ff",
   "metadata": {},
   "outputs": [
    {
     "data": {
      "text/plain": [
       "126268"
      ]
     },
     "execution_count": 38,
     "metadata": {},
     "output_type": "execute_result"
    }
   ],
   "source": [
    "# remove already removed OR questions\n",
    "front_questions_subsample = front_questions - (or_questions - or_questions_subsample) - (less_questions - less_questions_subsample)\n",
    "len(front_questions_subsample)"
   ]
  },
  {
   "cell_type": "code",
   "execution_count": 39,
   "id": "60cf14c5",
   "metadata": {},
   "outputs": [
    {
     "data": {
      "text/plain": [
       "35301"
      ]
     },
     "execution_count": 39,
     "metadata": {},
     "output_type": "execute_result"
    }
   ],
   "source": [
    "# how many questions at there intersection of FRONT and BEHIND? Quite a few ...\n",
    "len(behind_questions_subsample & front_questions_subsample)"
   ]
  },
  {
   "cell_type": "code",
   "execution_count": 40,
   "id": "98fae6cb",
   "metadata": {},
   "outputs": [
    {
     "data": {
      "text/plain": [
       "59885"
      ]
     },
     "execution_count": 40,
     "metadata": {},
     "output_type": "execute_result"
    }
   ],
   "source": [
    "# how many questions at there intersection of FRONT with all other words? Quite a few ...\n",
    "len(front_questions_subsample & (and_or_questions | more_less_questions | behind_questions_subsample))"
   ]
  },
  {
   "cell_type": "code",
   "execution_count": 41,
   "id": "138d95ad",
   "metadata": {},
   "outputs": [
    {
     "data": {
      "text/plain": [
       "33941"
      ]
     },
     "execution_count": 41,
     "metadata": {},
     "output_type": "execute_result"
    }
   ],
   "source": [
    "len(front_questions_subsample & (and_or_questions | more_less_questions))"
   ]
  },
  {
   "cell_type": "code",
   "execution_count": 42,
   "id": "4ba66ede",
   "metadata": {},
   "outputs": [],
   "source": [
    "#Downsample FRONT question \n",
    "n_front = 125665 * front_prop / behind_prop"
   ]
  },
  {
   "cell_type": "code",
   "execution_count": 43,
   "id": "6134b19f",
   "metadata": {},
   "outputs": [
    {
     "data": {
      "text/plain": [
       "32160.710900473932"
      ]
     },
     "execution_count": 43,
     "metadata": {},
     "output_type": "execute_result"
    }
   ],
   "source": [
    "# n front is smaller than the intersection with all other words, so I will need to subsample BEHIND questions as well\n",
    "n_front"
   ]
  },
  {
   "cell_type": "code",
   "execution_count": 44,
   "id": "ce6bd10c",
   "metadata": {},
   "outputs": [
    {
     "data": {
      "text/plain": [
       "25944"
      ]
     },
     "execution_count": 44,
     "metadata": {},
     "output_type": "execute_result"
    }
   ],
   "source": [
    "behind_front_intersect = behind_questions_subsample & front_questions_subsample - (and_or_questions | more_less_questions)\n",
    "len(behind_front_intersect)"
   ]
  },
  {
   "cell_type": "code",
   "execution_count": 45,
   "id": "511168ce",
   "metadata": {},
   "outputs": [],
   "source": [
    "behind_questions_subsample = behind_questions_subsample - behind_front_intersect\n",
    "front_questions_subsample = front_questions_subsample - behind_front_intersect"
   ]
  },
  {
   "cell_type": "code",
   "execution_count": 46,
   "id": "cf9836f2",
   "metadata": {},
   "outputs": [
    {
     "data": {
      "text/plain": [
       "99677"
      ]
     },
     "execution_count": 46,
     "metadata": {},
     "output_type": "execute_result"
    }
   ],
   "source": [
    "len(behind_questions_subsample)"
   ]
  },
  {
   "cell_type": "code",
   "execution_count": 47,
   "id": "0eca48fc",
   "metadata": {},
   "outputs": [
    {
     "data": {
      "text/plain": [
       "100324"
      ]
     },
     "execution_count": 47,
     "metadata": {},
     "output_type": "execute_result"
    }
   ],
   "source": [
    "len(front_questions_subsample)"
   ]
  },
  {
   "cell_type": "code",
   "execution_count": 48,
   "id": "dbf371ff",
   "metadata": {},
   "outputs": [],
   "source": [
    "n_front = ((99721) * front_prop / behind_prop)"
   ]
  },
  {
   "cell_type": "code",
   "execution_count": 49,
   "id": "89eccee8",
   "metadata": {},
   "outputs": [
    {
     "data": {
      "text/plain": [
       "25521.014218009477"
      ]
     },
     "execution_count": 49,
     "metadata": {},
     "output_type": "execute_result"
    }
   ],
   "source": [
    "# since n_front is quite small I will and \n",
    "n_front"
   ]
  },
  {
   "cell_type": "code",
   "execution_count": 50,
   "id": "7b00c955",
   "metadata": {},
   "outputs": [
    {
     "data": {
      "text/plain": [
       "33941"
      ]
     },
     "execution_count": 50,
     "metadata": {},
     "output_type": "execute_result"
    }
   ],
   "source": [
    "len(front_questions_subsample & (and_or_questions | more_less_questions))"
   ]
  },
  {
   "cell_type": "code",
   "execution_count": 51,
   "id": "1660a51c",
   "metadata": {},
   "outputs": [],
   "source": [
    "behind_front_questions = behind_questions_subsample"
   ]
  },
  {
   "cell_type": "markdown",
   "id": "da31879c",
   "metadata": {},
   "source": [
    "## SAME"
   ]
  },
  {
   "cell_type": "code",
   "execution_count": 52,
   "id": "42b2ebae",
   "metadata": {
    "scrolled": true
   },
   "outputs": [
    {
     "data": {
      "text/plain": [
       "356333"
      ]
     },
     "execution_count": 52,
     "metadata": {},
     "output_type": "execute_result"
    }
   ],
   "source": [
    "same_questions = get_questions_with_word(\" same \")\n",
    "len(same_questions)"
   ]
  },
  {
   "cell_type": "code",
   "execution_count": 53,
   "id": "7644b84d",
   "metadata": {},
   "outputs": [],
   "source": [
    "# remove intersection with FRONT that dont also contain other words"
   ]
  },
  {
   "cell_type": "code",
   "execution_count": 54,
   "id": "b0fb1e06",
   "metadata": {},
   "outputs": [],
   "source": [
    "same_questions = same_questions - front_questions_subsample"
   ]
  },
  {
   "cell_type": "markdown",
   "id": "4bb6e096",
   "metadata": {},
   "source": [
    "### Check new frequencies ..."
   ]
  },
  {
   "cell_type": "code",
   "execution_count": 55,
   "id": "5fff86f7",
   "metadata": {},
   "outputs": [],
   "source": [
    "union_questions = and_or_questions | more_less_questions | behind_front_questions | same_questions"
   ]
  },
  {
   "cell_type": "code",
   "execution_count": 56,
   "id": "20e9e104",
   "metadata": {},
   "outputs": [
    {
     "data": {
      "text/plain": [
       "445877"
      ]
     },
     "execution_count": 56,
     "metadata": {},
     "output_type": "execute_result"
    }
   ],
   "source": [
    "len(union_questions)"
   ]
  },
  {
   "cell_type": "code",
   "execution_count": 57,
   "id": "b0544c07",
   "metadata": {},
   "outputs": [],
   "source": [
    "subsampled_questions_dict = {x : questions_dict[x] for x in union_questions}"
   ]
  },
  {
   "cell_type": "code",
   "execution_count": 58,
   "id": "1837a671",
   "metadata": {},
   "outputs": [],
   "source": [
    "data, total_word_count = get_total_word_count_and_data(subsampled_questions_dict)"
   ]
  },
  {
   "cell_type": "code",
   "execution_count": 59,
   "id": "a4ef5ad8",
   "metadata": {},
   "outputs": [
    {
     "data": {
      "text/plain": [
       "8263441"
      ]
     },
     "execution_count": 59,
     "metadata": {},
     "output_type": "execute_result"
    }
   ],
   "source": [
    "total_word_count"
   ]
  },
  {
   "cell_type": "code",
   "execution_count": 60,
   "id": "4c9af510",
   "metadata": {},
   "outputs": [],
   "source": [
    "token_count_dict = get_token_counts(data)"
   ]
  },
  {
   "cell_type": "code",
   "execution_count": 61,
   "id": "35d8a51c",
   "metadata": {},
   "outputs": [
    {
     "data": {
      "text/plain": [
       "{'and': 81506,\n",
       " 'or': 8610,\n",
       " 'more': 11570,\n",
       " 'fewer': 105,\n",
       " 'behind': 113838,\n",
       " 'in front': 39261,\n",
       " 'same': 335667}"
      ]
     },
     "execution_count": 61,
     "metadata": {},
     "output_type": "execute_result"
    }
   ],
   "source": [
    "token_count_dict"
   ]
  },
  {
   "cell_type": "code",
   "execution_count": 62,
   "id": "07dfcd19",
   "metadata": {},
   "outputs": [
    {
     "name": "stdout",
     "output_type": "stream",
     "text": [
      "0.9044564783168361 0.904458731162048\n"
     ]
    }
   ],
   "source": [
    "# AND prop\n",
    "print(81506 / (81506 + 8610) , and_prop)"
   ]
  },
  {
   "cell_type": "code",
   "execution_count": 63,
   "id": "25f9aa55",
   "metadata": {},
   "outputs": [
    {
     "name": "stdout",
     "output_type": "stream",
     "text": [
      "0.9910064239828694 0.9910237954102803\n"
     ]
    }
   ],
   "source": [
    "# MORE prop\n",
    "print(11570 / (11570 + 105), more_prop)"
   ]
  },
  {
   "cell_type": "code",
   "execution_count": 64,
   "id": "2cedc73e",
   "metadata": {},
   "outputs": [
    {
     "name": "stdout",
     "output_type": "stream",
     "text": [
      "0.743634950796978 0.7962264150943397\n"
     ]
    }
   ],
   "source": [
    "# BEHIND prop\n",
    "print(113881 / (113881 + 39260) , behind_prop)"
   ]
  },
  {
   "cell_type": "markdown",
   "id": "eb748cb1",
   "metadata": {},
   "source": [
    "## Close enough! Save new dataset"
   ]
  },
  {
   "cell_type": "code",
   "execution_count": 65,
   "id": "313e1cab",
   "metadata": {},
   "outputs": [],
   "source": [
    "new_questions = [questions_dict[x] for x in union_questions]"
   ]
  },
  {
   "cell_type": "code",
   "execution_count": 66,
   "id": "4867b92b",
   "metadata": {},
   "outputs": [],
   "source": [
    "# now renumber questions ids for new dataset\n",
    "i = 0\n",
    "for q in new_questions:\n",
    "    q['question_index'] = i\n",
    "    i+=1"
   ]
  },
  {
   "cell_type": "code",
   "execution_count": 130,
   "id": "d33c43e3",
   "metadata": {},
   "outputs": [],
   "source": [
    "new_train_questions = {'info':info, 'questions': new_questions}"
   ]
  },
  {
   "cell_type": "code",
   "execution_count": 134,
   "id": "cda05e53",
   "metadata": {},
   "outputs": [],
   "source": [
    "new_train_q_file = \"../../data/CLEVR_CHILDESfreq/data/CLEVR_train_questions.json\"\n",
    "with open(new_train_q_file, \"w\") as f:\n",
    "    json.dump(new_train_questions, f)\n"
   ]
  },
  {
   "cell_type": "markdown",
   "id": "39db79b8",
   "metadata": {},
   "source": [
    "### Forgot to add other non word questions last time ....\n",
    "\n",
    "Adding these questions to rerun experiment 2"
   ]
  },
  {
   "cell_type": "code",
   "execution_count": 67,
   "id": "066239ec",
   "metadata": {},
   "outputs": [],
   "source": [
    "keep_questions = set(questions_dict.keys())"
   ]
  },
  {
   "cell_type": "code",
   "execution_count": 68,
   "id": "fcb7d4a0",
   "metadata": {},
   "outputs": [
    {
     "data": {
      "text/plain": [
       "600185"
      ]
     },
     "execution_count": 68,
     "metadata": {},
     "output_type": "execute_result"
    }
   ],
   "source": [
    "word_questions = (and_questions|or_questions|more_questions|less_questions|behind_questions|front_questions|same_questions)\n",
    "len(word_questions)"
   ]
  },
  {
   "cell_type": "code",
   "execution_count": 69,
   "id": "6ef8a212",
   "metadata": {},
   "outputs": [
    {
     "data": {
      "text/plain": [
       "{'and': 0,\n",
       " 'or': 0,\n",
       " 'more': 0,\n",
       " 'fewer': 0,\n",
       " 'behind': 0,\n",
       " 'in front': 0,\n",
       " 'same': 0}"
      ]
     },
     "execution_count": 69,
     "metadata": {},
     "output_type": "execute_result"
    }
   ],
   "source": [
    "nonword_questions = keep_questions - word_questions\n",
    "subsampled_questions_dict = {x : questions_dict[x] for x in nonword_questions}\n",
    "data, total_word_count = get_total_word_count_and_data(subsampled_questions_dict)\n",
    "token_count_dict = get_token_counts(data)\n",
    "token_count_dict"
   ]
  },
  {
   "cell_type": "code",
   "execution_count": 70,
   "id": "a8eee989",
   "metadata": {},
   "outputs": [],
   "source": [
    "new_questions = [questions_dict[x] for x in nonword_questions]"
   ]
  },
  {
   "cell_type": "code",
   "execution_count": 78,
   "id": "4a01a221",
   "metadata": {},
   "outputs": [],
   "source": [
    "train_q_file = \"../../data/CLEVR_CHILDESfreq/data/CLEVR_train_questions.json\"\n",
    "\n",
    "with open(train_q_file) as f:\n",
    "    train_questions = json.load(f)\n",
    "\n",
    "info = train_questions['info']\n",
    "questions = train_questions['questions']"
   ]
  },
  {
   "cell_type": "code",
   "execution_count": 82,
   "id": "bffe5ec5",
   "metadata": {},
   "outputs": [
    {
     "data": {
      "text/plain": [
       "445877"
      ]
     },
     "execution_count": 82,
     "metadata": {},
     "output_type": "execute_result"
    }
   ],
   "source": [
    "len(questions)"
   ]
  },
  {
   "cell_type": "code",
   "execution_count": 80,
   "id": "f8b78dcf",
   "metadata": {},
   "outputs": [],
   "source": [
    "questions = questions[0:-1]"
   ]
  },
  {
   "cell_type": "code",
   "execution_count": 81,
   "id": "6ed60338",
   "metadata": {},
   "outputs": [
    {
     "data": {
      "text/plain": [
       "{'image_index': 69999,\n",
       " 'program': [{'inputs': [], 'function': 'scene', 'value_inputs': []},\n",
       "  {'inputs': [0], 'function': 'filter_material', 'value_inputs': ['metal']},\n",
       "  {'inputs': [1], 'function': 'filter_shape', 'value_inputs': ['sphere']},\n",
       "  {'inputs': [2], 'function': 'unique', 'value_inputs': []},\n",
       "  {'inputs': [3], 'function': 'same_size', 'value_inputs': []},\n",
       "  {'inputs': [4], 'function': 'filter_color', 'value_inputs': ['brown']},\n",
       "  {'inputs': [5], 'function': 'filter_material', 'value_inputs': ['rubber']},\n",
       "  {'inputs': [6], 'function': 'filter_shape', 'value_inputs': ['cylinder']},\n",
       "  {'inputs': [7], 'function': 'exist', 'value_inputs': []}],\n",
       " 'question_index': 445876,\n",
       " 'image_filename': 'CLEVR_train_069999.png',\n",
       " 'question_family_index': 44,\n",
       " 'split': 'train',\n",
       " 'answer': 'no',\n",
       " 'question': 'Is there a brown rubber cylinder that has the same size as the metal ball?'}"
      ]
     },
     "execution_count": 81,
     "metadata": {},
     "output_type": "execute_result"
    }
   ],
   "source": [
    "questions[-1]"
   ]
  },
  {
   "cell_type": "code",
   "execution_count": 83,
   "id": "ed115d2b",
   "metadata": {},
   "outputs": [],
   "source": [
    "i = questions[-1][\"question_index\"] + 1"
   ]
  },
  {
   "cell_type": "code",
   "execution_count": 84,
   "id": "4bfcbd71",
   "metadata": {},
   "outputs": [
    {
     "data": {
      "text/plain": [
       "445877"
      ]
     },
     "execution_count": 84,
     "metadata": {},
     "output_type": "execute_result"
    }
   ],
   "source": [
    "i"
   ]
  },
  {
   "cell_type": "code",
   "execution_count": 85,
   "id": "019644eb",
   "metadata": {},
   "outputs": [],
   "source": [
    "# now renumber questions ids for new dataset\n",
    "for q in new_questions:\n",
    "    q['question_index'] = i\n",
    "    i+=1"
   ]
  },
  {
   "cell_type": "code",
   "execution_count": 86,
   "id": "3127e2e5",
   "metadata": {},
   "outputs": [],
   "source": [
    "questions = questions + new_questions\n",
    "new_train_questions = {'info':info, 'questions': questions}"
   ]
  },
  {
   "cell_type": "code",
   "execution_count": 87,
   "id": "4323da20",
   "metadata": {},
   "outputs": [
    {
     "data": {
      "text/plain": [
       "545681"
      ]
     },
     "execution_count": 87,
     "metadata": {},
     "output_type": "execute_result"
    }
   ],
   "source": [
    "len(questions)"
   ]
  },
  {
   "cell_type": "code",
   "execution_count": 88,
   "id": "17334fe6",
   "metadata": {},
   "outputs": [],
   "source": [
    "with open(train_q_file, \"w\") as f:\n",
    "    json.dump(new_train_questions, f)"
   ]
  },
  {
   "cell_type": "code",
   "execution_count": null,
   "id": "4a5aee3a",
   "metadata": {},
   "outputs": [],
   "source": []
  }
 ],
 "metadata": {
  "kernelspec": {
   "display_name": "Python 3",
   "language": "python",
   "name": "python3"
  },
  "language_info": {
   "codemirror_mode": {
    "name": "ipython",
    "version": 3
   },
   "file_extension": ".py",
   "mimetype": "text/x-python",
   "name": "python",
   "nbconvert_exporter": "python",
   "pygments_lexer": "ipython3",
   "version": "3.8.8"
  }
 },
 "nbformat": 4,
 "nbformat_minor": 5
}
