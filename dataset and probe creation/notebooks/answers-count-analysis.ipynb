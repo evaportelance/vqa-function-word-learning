{
 "cells": [
  {
   "cell_type": "code",
   "execution_count": 1,
   "id": "a9b97011",
   "metadata": {},
   "outputs": [],
   "source": [
    "import os\n",
    "import json\n",
    "import pandas as pd\n",
    "import random"
   ]
  },
  {
   "cell_type": "code",
   "execution_count": 2,
   "id": "30375872",
   "metadata": {},
   "outputs": [],
   "source": [
    "train_q_file = \"../../data/CLEVR_v1/data/CLEVR_train_questions.json\""
   ]
  },
  {
   "cell_type": "code",
   "execution_count": 3,
   "id": "c08eb6c9",
   "metadata": {},
   "outputs": [],
   "source": [
    "with open(train_q_file) as f:\n",
    "    train_questions = json.load(f)"
   ]
  },
  {
   "cell_type": "code",
   "execution_count": 4,
   "id": "02d0b7d7",
   "metadata": {},
   "outputs": [],
   "source": [
    "info = train_questions['info']"
   ]
  },
  {
   "cell_type": "code",
   "execution_count": 5,
   "id": "c6048348",
   "metadata": {},
   "outputs": [],
   "source": [
    "questions = train_questions['questions']"
   ]
  },
  {
   "cell_type": "code",
   "execution_count": 6,
   "id": "b40c65ee",
   "metadata": {},
   "outputs": [],
   "source": [
    "questions_dict = {}\n",
    "for q in questions:\n",
    "    questions_dict[q['question_index']] = q"
   ]
  },
  {
   "cell_type": "code",
   "execution_count": 7,
   "id": "43499ce7",
   "metadata": {},
   "outputs": [],
   "source": [
    "def get_questions_with_word(word):\n",
    "    word_questions = set()\n",
    "    for k,v in questions_dict.items():\n",
    "        if word in v['question']:\n",
    "            word_questions.add(k)\n",
    "    return word_questions\n",
    "\n",
    "def get_total_word_count_and_data(subsampled_questions_dict):\n",
    "    total_word_count = 0\n",
    "    data = []\n",
    "    for k,q in subsampled_questions_dict.items():\n",
    "        line = q['question']\n",
    "        line = line.strip('?').lower()\n",
    "        line_as_list = line.split(\" \")\n",
    "        data += line_as_list\n",
    "        total_word_count += len(line_as_list)\n",
    "    return data, total_word_count\n",
    "\n",
    "def get_token_counts(data):\n",
    "    word_set = {\"and\", \"or\", \"more\", \"fewer\", \"behind\", \"front\", \"same\"}\n",
    "    token_count_dict = {\"and\": 0, \"or\": 0, \"more\": 0, \"fewer\": 0, \"behind\": 0, \"in front\": 0, \"same\": 0}\n",
    "    prev_word = \"\"\n",
    "    for word in data:\n",
    "        if word in word_set:\n",
    "            if word == \"front\":\n",
    "                if prev_word == \"in\":\n",
    "                    token_count_dict[\"in front\"] += 1\n",
    "            else:\n",
    "                token_count_dict[word] += 1\n",
    "        prev_word = word\n",
    "    return token_count_dict\n",
    "\n",
    "def get_answers(questions):\n",
    "    answers = {}\n",
    "    for q in questions:\n",
    "        ans = questions_dict[q][\"answer\"]\n",
    "        if ans in answers:\n",
    "            answers[ans] += 1\n",
    "        else:\n",
    "            answers[ans] = 1\n",
    "    return answers\n",
    "    "
   ]
  },
  {
   "cell_type": "markdown",
   "id": "650eb04d",
   "metadata": {},
   "source": [
    "## AND and OR"
   ]
  },
  {
   "cell_type": "code",
   "execution_count": 8,
   "id": "956a7101",
   "metadata": {},
   "outputs": [],
   "source": [
    "and_questions = get_questions_with_word(\" and \")"
   ]
  },
  {
   "cell_type": "code",
   "execution_count": 9,
   "id": "da0de048",
   "metadata": {},
   "outputs": [],
   "source": [
    "or_questions = get_questions_with_word(\" or \")"
   ]
  },
  {
   "cell_type": "code",
   "execution_count": 10,
   "id": "1234f236",
   "metadata": {},
   "outputs": [],
   "source": [
    "and_answers = get_answers(and_questions)"
   ]
  },
  {
   "cell_type": "code",
   "execution_count": 11,
   "id": "51f4c152",
   "metadata": {},
   "outputs": [
    {
     "data": {
      "text/plain": [
       "{'rubber': 3898,\n",
       " 'yellow': 980,\n",
       " 'yes': 20673,\n",
       " 'no': 21463,\n",
       " 'cube': 2660,\n",
       " 'green': 955,\n",
       " 'large': 3843,\n",
       " 'small': 3936,\n",
       " '1': 2887,\n",
       " 'cyan': 933,\n",
       " '2': 1120,\n",
       " 'cylinder': 2590,\n",
       " '0': 3084,\n",
       " 'sphere': 2661,\n",
       " 'metal': 3986,\n",
       " 'brown': 975,\n",
       " 'blue': 1008,\n",
       " 'red': 1038,\n",
       " 'gray': 966,\n",
       " 'purple': 1009,\n",
       " '5': 105,\n",
       " '6': 52,\n",
       " '3': 426,\n",
       " '4': 217,\n",
       " '7': 28,\n",
       " '8': 13}"
      ]
     },
     "execution_count": 11,
     "metadata": {},
     "output_type": "execute_result"
    }
   ],
   "source": [
    "and_answers"
   ]
  },
  {
   "cell_type": "code",
   "execution_count": 12,
   "id": "15209444",
   "metadata": {},
   "outputs": [],
   "source": [
    "or_answers = get_answers(or_questions)"
   ]
  },
  {
   "cell_type": "code",
   "execution_count": 13,
   "id": "288f9fb9",
   "metadata": {},
   "outputs": [
    {
     "data": {
      "text/plain": [
       "{'1': 20657,\n",
       " '2': 16445,\n",
       " '0': 11665,\n",
       " '3': 8517,\n",
       " '4': 3333,\n",
       " '6': 651,\n",
       " '7': 288,\n",
       " '5': 1423,\n",
       " '8': 149,\n",
       " '9': 74,\n",
       " '10': 12}"
      ]
     },
     "execution_count": 13,
     "metadata": {},
     "output_type": "execute_result"
    }
   ],
   "source": [
    "or_answers"
   ]
  },
  {
   "cell_type": "markdown",
   "id": "c3898af1",
   "metadata": {},
   "source": [
    "## MORE and FEWER"
   ]
  },
  {
   "cell_type": "code",
   "execution_count": 14,
   "id": "2d945304",
   "metadata": {},
   "outputs": [],
   "source": [
    "more_questions = get_questions_with_word(\" more \")"
   ]
  },
  {
   "cell_type": "code",
   "execution_count": 15,
   "id": "d81cd1d4",
   "metadata": {},
   "outputs": [],
   "source": [
    "fewer_questions = get_questions_with_word(\" fewer \")"
   ]
  },
  {
   "cell_type": "code",
   "execution_count": 16,
   "id": "88ca1684",
   "metadata": {},
   "outputs": [],
   "source": [
    "more_answers = get_answers(more_questions)"
   ]
  },
  {
   "cell_type": "code",
   "execution_count": 17,
   "id": "ffc9ebf7",
   "metadata": {},
   "outputs": [
    {
     "data": {
      "text/plain": [
       "{'yes': 5549, 'no': 6021}"
      ]
     },
     "execution_count": 17,
     "metadata": {},
     "output_type": "execute_result"
    }
   ],
   "source": [
    "more_answers"
   ]
  },
  {
   "cell_type": "code",
   "execution_count": 18,
   "id": "ecaa900e",
   "metadata": {},
   "outputs": [],
   "source": [
    "fewer_answers = get_answers(fewer_questions)"
   ]
  },
  {
   "cell_type": "code",
   "execution_count": 19,
   "id": "4dbe9543",
   "metadata": {},
   "outputs": [
    {
     "data": {
      "text/plain": [
       "{'no': 6011, 'yes': 5840}"
      ]
     },
     "execution_count": 19,
     "metadata": {},
     "output_type": "execute_result"
    }
   ],
   "source": [
    "fewer_answers"
   ]
  },
  {
   "cell_type": "code",
   "execution_count": 20,
   "id": "7320ad04",
   "metadata": {},
   "outputs": [],
   "source": [
    "from IPython.display import Image"
   ]
  },
  {
   "cell_type": "code",
   "execution_count": 21,
   "id": "4f86055e",
   "metadata": {},
   "outputs": [],
   "source": [
    "#for q in more_questions:\n",
    "#    ans = questions_dict[q][\"answer\"]\n",
    "#    if ans == \"no\":\n",
    "#        que = questions_dict[q][\"question\"]\n",
    "#        image = questions_dict[q][\"image_filename\"]\n",
    "#        print(que, image)"
   ]
  },
  {
   "cell_type": "code",
   "execution_count": 22,
   "id": "050dd13a",
   "metadata": {},
   "outputs": [
    {
     "data": {
      "image/png": "[encoded data removed]",
      "text/plain": [
       "<IPython.core.display.Image object>"
      ]
     },
     "execution_count": 22,
     "metadata": {},
     "output_type": "execute_result"
    }
   ],
   "source": [
    "Image(filename='../../data/CLEVR_v1/images/train/CLEVR_train_009846.png')"
   ]
  },
  {
   "cell_type": "markdown",
   "id": "2d5b638f",
   "metadata": {},
   "source": [
    "Are there more cylinders that are behind the large purple shiny cylinder than tiny yellow cylinders? CLEVR_train_009846.png\n",
    "Image(filename='../../data/CLEVR_v1/images/train/CLEVR_train_009846.png')\n",
    "Are there more big cyan blocks in front of the large cyan thing than blue cylinders? CLEVR_train_022954.png\n",
    "Image(filename='../../data/CLEVR_v1/images/train/CLEVR_train_022954.png') \n",
    "Are there more balls that are in front of the brown rubber object than tiny cyan things?\n",
    "Image(filename='../../data/CLEVR_v1/images/train/CLEVR_train_068857.png') "
   ]
  },
  {
   "cell_type": "markdown",
   "id": "6253569a",
   "metadata": {},
   "source": [
    "## BEHIND and FRONT"
   ]
  },
  {
   "cell_type": "code",
   "execution_count": 24,
   "id": "c05bf46c",
   "metadata": {},
   "outputs": [],
   "source": [
    "behind_questions = get_questions_with_word(\" behind \")"
   ]
  },
  {
   "cell_type": "code",
   "execution_count": 25,
   "id": "067cfcb5",
   "metadata": {},
   "outputs": [],
   "source": [
    "front_questions = get_questions_with_word(\" front \")"
   ]
  },
  {
   "cell_type": "code",
   "execution_count": 26,
   "id": "6faacb65",
   "metadata": {},
   "outputs": [],
   "source": [
    "behind_answers = get_answers(behind_questions)"
   ]
  },
  {
   "cell_type": "code",
   "execution_count": 27,
   "id": "001a9333",
   "metadata": {},
   "outputs": [
    {
     "data": {
      "text/plain": [
       "{'1': 7346,\n",
       " 'no': 28707,\n",
       " '0': 5891,\n",
       " 'yes': 27491,\n",
       " 'metal': 7161,\n",
       " 'sphere': 4746,\n",
       " 'gray': 1740,\n",
       " 'cube': 4822,\n",
       " 'large': 7052,\n",
       " 'cyan': 1776,\n",
       " 'purple': 1766,\n",
       " 'cylinder': 4821,\n",
       " '2': 3847,\n",
       " '3': 2383,\n",
       " 'small': 7032,\n",
       " 'brown': 1768,\n",
       " '4': 1052,\n",
       " 'yellow': 1802,\n",
       " 'green': 1774,\n",
       " 'rubber': 7216,\n",
       " 'blue': 1818,\n",
       " 'red': 1799,\n",
       " '6': 234,\n",
       " '7': 110,\n",
       " '5': 471,\n",
       " '8': 69,\n",
       " '9': 27,\n",
       " '10': 2}"
      ]
     },
     "execution_count": 27,
     "metadata": {},
     "output_type": "execute_result"
    }
   ],
   "source": [
    "behind_answers"
   ]
  },
  {
   "cell_type": "code",
   "execution_count": 28,
   "id": "68d579fe",
   "metadata": {},
   "outputs": [],
   "source": [
    "front_answers = get_answers(front_questions)"
   ]
  },
  {
   "cell_type": "code",
   "execution_count": 29,
   "id": "372ee591",
   "metadata": {},
   "outputs": [
    {
     "data": {
      "text/plain": [
       "{'cube': 4710,\n",
       " 'metal': 7198,\n",
       " 'no': 28563,\n",
       " 'sphere': 4842,\n",
       " 'yes': 27748,\n",
       " '1': 7435,\n",
       " 'green': 1772,\n",
       " 'rubber': 7193,\n",
       " 'yellow': 1812,\n",
       " 'blue': 1815,\n",
       " 'small': 7170,\n",
       " 'red': 1849,\n",
       " 'cylinder': 4710,\n",
       " '0': 5844,\n",
       " '3': 2311,\n",
       " 'brown': 1840,\n",
       " '6': 233,\n",
       " '2': 3786,\n",
       " 'large': 7210,\n",
       " 'cyan': 1736,\n",
       " 'purple': 1865,\n",
       " 'gray': 1755,\n",
       " '4': 1058,\n",
       " '5': 459,\n",
       " '8': 75,\n",
       " '7': 90,\n",
       " '10': 1,\n",
       " '9': 30}"
      ]
     },
     "execution_count": 29,
     "metadata": {},
     "output_type": "execute_result"
    }
   ],
   "source": [
    "front_answers"
   ]
  },
  {
   "cell_type": "markdown",
   "id": "6b8429f6",
   "metadata": {},
   "source": [
    "### Look at questions"
   ]
  },
  {
   "cell_type": "code",
   "execution_count": 30,
   "id": "f5931cab",
   "metadata": {},
   "outputs": [],
   "source": [
    "#for q in and_questions:\n",
    "#    ans = questions_dict[q][\"answer\"]\n",
    "#    if ans in [\"yes\", \"no\"]:\n",
    "#        print(questions_dict[q][\"question\"] )"
   ]
  },
  {
   "cell_type": "code",
   "execution_count": 31,
   "id": "ec78dc7c",
   "metadata": {},
   "outputs": [],
   "source": [
    "#for q in or_questions:\n",
    "#    que = questions_dict[q][\"question\"]\n",
    "#    print(questions_dict[q][\"question\"])"
   ]
  },
  {
   "cell_type": "markdown",
   "id": "5bda9a15",
   "metadata": {},
   "source": [
    "# ANSWER to probes"
   ]
  },
  {
   "cell_type": "code",
   "execution_count": 32,
   "id": "ea34cd89",
   "metadata": {},
   "outputs": [],
   "source": [
    "probes_dir = \"../../data/CLEVR_PROBES/\""
   ]
  },
  {
   "cell_type": "code",
   "execution_count": 33,
   "id": "eb8271e0",
   "metadata": {},
   "outputs": [],
   "source": [
    "probes = {}\n",
    "for file in os.scandir(probes_dir):\n",
    "    if file.path.endswith(\".json\"):\n",
    "        with open(file.path) as f:\n",
    "            probe = json.load(f)\n",
    "            probes[file.name] = probe"
   ]
  },
  {
   "cell_type": "code",
   "execution_count": 34,
   "id": "bb6d5f54",
   "metadata": {},
   "outputs": [],
   "source": [
    "def get_probe_answers(questions):\n",
    "    answers = {}\n",
    "    for q in questions:\n",
    "        ans = q['answer']\n",
    "        if ans in answers:\n",
    "            answers[ans] += 1\n",
    "        else:\n",
    "            answers[ans] = 1\n",
    "    return answers"
   ]
  },
  {
   "cell_type": "markdown",
   "id": "15f63b26",
   "metadata": {},
   "source": [
    "### AND and OR"
   ]
  },
  {
   "cell_type": "code",
   "execution_count": 35,
   "id": "0c4f0083",
   "metadata": {},
   "outputs": [],
   "source": [
    "orp_questions = probes['OR2_val_questions.json']['questions']"
   ]
  },
  {
   "cell_type": "code",
   "execution_count": 36,
   "id": "ad526fc8",
   "metadata": {},
   "outputs": [],
   "source": [
    "andp_questions = probes['AND2_val_questions.json']['questions']"
   ]
  },
  {
   "cell_type": "code",
   "execution_count": 37,
   "id": "0f7be811",
   "metadata": {},
   "outputs": [],
   "source": [
    "orp_answers = get_probe_answers(orp_questions)"
   ]
  },
  {
   "cell_type": "code",
   "execution_count": 38,
   "id": "afcfa1b6",
   "metadata": {},
   "outputs": [
    {
     "data": {
      "text/plain": [
       "{'no': 6454, 'yes (inclusive) / no (exclusive)': 795, 'yes': 8351}"
      ]
     },
     "execution_count": 38,
     "metadata": {},
     "output_type": "execute_result"
    }
   ],
   "source": [
    "orp_answers"
   ]
  },
  {
   "cell_type": "code",
   "execution_count": 39,
   "id": "539e9242",
   "metadata": {},
   "outputs": [],
   "source": [
    "andp_answers = get_probe_answers(andp_questions)"
   ]
  },
  {
   "cell_type": "code",
   "execution_count": 40,
   "id": "bd0cb5d7",
   "metadata": {},
   "outputs": [
    {
     "data": {
      "text/plain": [
       "{'no': 9362, 'yes': 6238}"
      ]
     },
     "execution_count": 40,
     "metadata": {},
     "output_type": "execute_result"
    }
   ],
   "source": [
    "andp_answers"
   ]
  },
  {
   "cell_type": "markdown",
   "id": "6493d19e",
   "metadata": {},
   "source": [
    "### MORE and FEWER"
   ]
  },
  {
   "cell_type": "code",
   "execution_count": 41,
   "id": "537d5686",
   "metadata": {},
   "outputs": [],
   "source": [
    "morep_questions = probes['MORE_val_questions.json']['questions']"
   ]
  },
  {
   "cell_type": "code",
   "execution_count": 42,
   "id": "365e6b08",
   "metadata": {},
   "outputs": [],
   "source": [
    "fewerp_questions = probes['LESS_val_questions.json']['questions']"
   ]
  },
  {
   "cell_type": "code",
   "execution_count": 43,
   "id": "6323aad8",
   "metadata": {},
   "outputs": [],
   "source": [
    "morep_answers = get_probe_answers(morep_questions)"
   ]
  },
  {
   "cell_type": "code",
   "execution_count": 44,
   "id": "23fe2b50",
   "metadata": {},
   "outputs": [
    {
     "data": {
      "text/plain": [
       "{'yes': 6154, 'no': 18266}"
      ]
     },
     "execution_count": 44,
     "metadata": {},
     "output_type": "execute_result"
    }
   ],
   "source": [
    "morep_answers"
   ]
  },
  {
   "cell_type": "code",
   "execution_count": 45,
   "id": "0e1318f8",
   "metadata": {},
   "outputs": [],
   "source": [
    "fewerp_answers = get_probe_answers(fewerp_questions)"
   ]
  },
  {
   "cell_type": "code",
   "execution_count": 46,
   "id": "db6920be",
   "metadata": {},
   "outputs": [
    {
     "data": {
      "text/plain": [
       "{'no': 18768, 'yes': 5652}"
      ]
     },
     "execution_count": 46,
     "metadata": {},
     "output_type": "execute_result"
    }
   ],
   "source": [
    "fewerp_answers"
   ]
  },
  {
   "cell_type": "code",
   "execution_count": 47,
   "id": "240a504a",
   "metadata": {},
   "outputs": [],
   "source": [
    "def helper_two_object_counts(objects, params):\n",
    "    o1_count = o2_count = 0\n",
    "    for i, object in enumerate(objects):\n",
    "        if params[0] in (object['size'], object['color'], object['material'], \"\") and params[1] in (object['shape'], 'thing'):\n",
    "            o1_count += 1\n",
    "        elif params[2] in (object['size'], object['color'], object['material'], \"\") and params[3] in (object['shape'], 'thing'):\n",
    "            o2_count += 1\n",
    "    return o1_count, o2_count\n",
    "\n",
    "def get_num_from_scene(item, probetype):\n",
    "    image_id = item[\"image_index\"]\n",
    "    question = item[\"question\"]\n",
    "    objects = g_scenes_dict[image_id]\n",
    "    params = []\n",
    "    if probetype == \"probeMORE\":\n",
    "        # template : \"Are there more of the [P1] [S1]s than the [P2] [S2]s?\"\n",
    "        question = question.replace('Are there more of the ', '')\n",
    "        question = question.replace('than the ', '')\n",
    "        question = question.replace('s ', ' ')\n",
    "        params = question[:-2].split(' ')\n",
    "    else:\n",
    "        # template : \"Are there fewer of the [P1] [S1] than the [P2] [S2]?\"\n",
    "        question = question.replace('Are there fewer of the ', '')\n",
    "        question = question.replace('than the ', '')\n",
    "        question = question.replace('s ', ' ')\n",
    "        params = question[:-2].split(' ')\n",
    "    o1_count, o2_count = helper_two_object_counts(objects, params)\n",
    "    item[\"obj1_count\"] = o1_count\n",
    "    item[\"obj2_count\"] = o2_count\n",
    "    return(item)\n",
    "\n",
    "def get_performance_by_num_diff(answer_data, probetype):\n",
    "    with_counts = answer_data.apply(lambda x: get_num_from_scene(x, probetype), axis=1)\n",
    "    with_counts['num_diff'] = with_counts.obj1_count - with_counts.obj2_count\n",
    "    \n",
    "    all_res = with_counts.drop(['question', 'image_index', 'index', 'obj1_count', 'obj2_count'], axis=1)\n",
    "    diff_res =  pd.DataFrame(all_res.value_counts(['answer', 'num_diff']))\n",
    "    diff_res = diff_res.reset_index()\n",
    "    diff_res.columns = ['answer', 'num_diff', 'counts']\n",
    "\n",
    "    return diff_res\n"
   ]
  },
  {
   "cell_type": "code",
   "execution_count": 48,
   "id": "0cba36a3",
   "metadata": {},
   "outputs": [],
   "source": [
    "scene_file = \"../../data/CLEVR_v1/scenes/CLEVR_val_scenes.json\"\n",
    "g_scenes_dict = dict()\n",
    "with open(scene_file) as image_info:\n",
    "    scenes = json.load(image_info)\n",
    "for scene in scenes['scenes']:\n",
    "    g_scenes_dict[scene[\"image_index\"]] = scene[\"objects\"]"
   ]
  },
  {
   "cell_type": "code",
   "execution_count": 49,
   "id": "cf378ad9",
   "metadata": {},
   "outputs": [],
   "source": [
    "more_file = \"../../data/preds/2022-02-14_experiment1_e25_4mac_newSAME_seed0/probeMORE-0_0-Answers-2022-02-14_experiment1_e25_4mac_newSAME_seed0.csv\"\n",
    "fewer_file = \"../../data/preds/2022-02-14_experiment1_e25_4mac_newSAME_seed0/probeLESS-0_0-Answers-2022-02-14_experiment1_e25_4mac_newSAME_seed0.csv\""
   ]
  },
  {
   "cell_type": "code",
   "execution_count": 50,
   "id": "fdf5a473",
   "metadata": {},
   "outputs": [],
   "source": [
    "answer_data = pd.read_csv(more_file)\n",
    "diff_res_more = get_performance_by_num_diff(answer_data, \"probeMORE\")"
   ]
  },
  {
   "cell_type": "code",
   "execution_count": 51,
   "id": "df7d1d4e",
   "metadata": {},
   "outputs": [
    {
     "data": {
      "text/html": [
       "<div>\n",
       "<style scoped>\n",
       "    .dataframe tbody tr th:only-of-type {\n",
       "        vertical-align: middle;\n",
       "    }\n",
       "\n",
       "    .dataframe tbody tr th {\n",
       "        vertical-align: top;\n",
       "    }\n",
       "\n",
       "    .dataframe thead th {\n",
       "        text-align: right;\n",
       "    }\n",
       "</style>\n",
       "<table border=\"1\" class=\"dataframe\">\n",
       "  <thead>\n",
       "    <tr style=\"text-align: right;\">\n",
       "      <th></th>\n",
       "      <th>answer</th>\n",
       "      <th>num_diff</th>\n",
       "      <th>counts</th>\n",
       "    </tr>\n",
       "  </thead>\n",
       "  <tbody>\n",
       "    <tr>\n",
       "      <th>0</th>\n",
       "      <td>no</td>\n",
       "      <td>0</td>\n",
       "      <td>12495</td>\n",
       "    </tr>\n",
       "    <tr>\n",
       "      <th>1</th>\n",
       "      <td>yes</td>\n",
       "      <td>1</td>\n",
       "      <td>3725</td>\n",
       "    </tr>\n",
       "    <tr>\n",
       "      <th>2</th>\n",
       "      <td>no</td>\n",
       "      <td>-1</td>\n",
       "      <td>3649</td>\n",
       "    </tr>\n",
       "    <tr>\n",
       "      <th>3</th>\n",
       "      <td>yes</td>\n",
       "      <td>2</td>\n",
       "      <td>1358</td>\n",
       "    </tr>\n",
       "    <tr>\n",
       "      <th>4</th>\n",
       "      <td>no</td>\n",
       "      <td>-2</td>\n",
       "      <td>1278</td>\n",
       "    </tr>\n",
       "    <tr>\n",
       "      <th>5</th>\n",
       "      <td>yes</td>\n",
       "      <td>3</td>\n",
       "      <td>600</td>\n",
       "    </tr>\n",
       "    <tr>\n",
       "      <th>6</th>\n",
       "      <td>no</td>\n",
       "      <td>-3</td>\n",
       "      <td>509</td>\n",
       "    </tr>\n",
       "    <tr>\n",
       "      <th>7</th>\n",
       "      <td>yes</td>\n",
       "      <td>4</td>\n",
       "      <td>287</td>\n",
       "    </tr>\n",
       "    <tr>\n",
       "      <th>8</th>\n",
       "      <td>no</td>\n",
       "      <td>-4</td>\n",
       "      <td>217</td>\n",
       "    </tr>\n",
       "    <tr>\n",
       "      <th>9</th>\n",
       "      <td>yes</td>\n",
       "      <td>5</td>\n",
       "      <td>128</td>\n",
       "    </tr>\n",
       "    <tr>\n",
       "      <th>10</th>\n",
       "      <td>no</td>\n",
       "      <td>-5</td>\n",
       "      <td>80</td>\n",
       "    </tr>\n",
       "    <tr>\n",
       "      <th>11</th>\n",
       "      <td>yes</td>\n",
       "      <td>6</td>\n",
       "      <td>46</td>\n",
       "    </tr>\n",
       "    <tr>\n",
       "      <th>12</th>\n",
       "      <td>no</td>\n",
       "      <td>-6</td>\n",
       "      <td>28</td>\n",
       "    </tr>\n",
       "    <tr>\n",
       "      <th>13</th>\n",
       "      <td>yes</td>\n",
       "      <td>7</td>\n",
       "      <td>9</td>\n",
       "    </tr>\n",
       "    <tr>\n",
       "      <th>14</th>\n",
       "      <td>no</td>\n",
       "      <td>-7</td>\n",
       "      <td>6</td>\n",
       "    </tr>\n",
       "    <tr>\n",
       "      <th>15</th>\n",
       "      <td>no</td>\n",
       "      <td>-8</td>\n",
       "      <td>4</td>\n",
       "    </tr>\n",
       "    <tr>\n",
       "      <th>16</th>\n",
       "      <td>yes</td>\n",
       "      <td>8</td>\n",
       "      <td>1</td>\n",
       "    </tr>\n",
       "  </tbody>\n",
       "</table>\n",
       "</div>"
      ],
      "text/plain": [
       "   answer  num_diff  counts\n",
       "0      no         0   12495\n",
       "1     yes         1    3725\n",
       "2      no        -1    3649\n",
       "3     yes         2    1358\n",
       "4      no        -2    1278\n",
       "5     yes         3     600\n",
       "6      no        -3     509\n",
       "7     yes         4     287\n",
       "8      no        -4     217\n",
       "9     yes         5     128\n",
       "10     no        -5      80\n",
       "11    yes         6      46\n",
       "12     no        -6      28\n",
       "13    yes         7       9\n",
       "14     no        -7       6\n",
       "15     no        -8       4\n",
       "16    yes         8       1"
      ]
     },
     "execution_count": 51,
     "metadata": {},
     "output_type": "execute_result"
    }
   ],
   "source": [
    "diff_res_more"
   ]
  },
  {
   "cell_type": "code",
   "execution_count": 52,
   "id": "d47d0d2e",
   "metadata": {},
   "outputs": [],
   "source": [
    "answer_data = pd.read_csv(fewer_file)\n",
    "diff_res_fewer = get_performance_by_num_diff(answer_data, \"probeLESS\")"
   ]
  },
  {
   "cell_type": "code",
   "execution_count": 53,
   "id": "439612d1",
   "metadata": {},
   "outputs": [
    {
     "data": {
      "text/html": [
       "<div>\n",
       "<style scoped>\n",
       "    .dataframe tbody tr th:only-of-type {\n",
       "        vertical-align: middle;\n",
       "    }\n",
       "\n",
       "    .dataframe tbody tr th {\n",
       "        vertical-align: top;\n",
       "    }\n",
       "\n",
       "    .dataframe thead th {\n",
       "        text-align: right;\n",
       "    }\n",
       "</style>\n",
       "<table border=\"1\" class=\"dataframe\">\n",
       "  <thead>\n",
       "    <tr style=\"text-align: right;\">\n",
       "      <th></th>\n",
       "      <th>answer</th>\n",
       "      <th>num_diff</th>\n",
       "      <th>counts</th>\n",
       "    </tr>\n",
       "  </thead>\n",
       "  <tbody>\n",
       "    <tr>\n",
       "      <th>0</th>\n",
       "      <td>no</td>\n",
       "      <td>0</td>\n",
       "      <td>12532</td>\n",
       "    </tr>\n",
       "    <tr>\n",
       "      <th>1</th>\n",
       "      <td>no</td>\n",
       "      <td>1</td>\n",
       "      <td>3879</td>\n",
       "    </tr>\n",
       "    <tr>\n",
       "      <th>2</th>\n",
       "      <td>yes</td>\n",
       "      <td>-1</td>\n",
       "      <td>3576</td>\n",
       "    </tr>\n",
       "    <tr>\n",
       "      <th>3</th>\n",
       "      <td>no</td>\n",
       "      <td>2</td>\n",
       "      <td>1311</td>\n",
       "    </tr>\n",
       "    <tr>\n",
       "      <th>4</th>\n",
       "      <td>yes</td>\n",
       "      <td>-2</td>\n",
       "      <td>1225</td>\n",
       "    </tr>\n",
       "    <tr>\n",
       "      <th>5</th>\n",
       "      <td>no</td>\n",
       "      <td>3</td>\n",
       "      <td>609</td>\n",
       "    </tr>\n",
       "    <tr>\n",
       "      <th>6</th>\n",
       "      <td>yes</td>\n",
       "      <td>-3</td>\n",
       "      <td>514</td>\n",
       "    </tr>\n",
       "    <tr>\n",
       "      <th>7</th>\n",
       "      <td>no</td>\n",
       "      <td>4</td>\n",
       "      <td>269</td>\n",
       "    </tr>\n",
       "    <tr>\n",
       "      <th>8</th>\n",
       "      <td>yes</td>\n",
       "      <td>-4</td>\n",
       "      <td>225</td>\n",
       "    </tr>\n",
       "    <tr>\n",
       "      <th>9</th>\n",
       "      <td>no</td>\n",
       "      <td>5</td>\n",
       "      <td>113</td>\n",
       "    </tr>\n",
       "    <tr>\n",
       "      <th>10</th>\n",
       "      <td>yes</td>\n",
       "      <td>-5</td>\n",
       "      <td>76</td>\n",
       "    </tr>\n",
       "    <tr>\n",
       "      <th>11</th>\n",
       "      <td>no</td>\n",
       "      <td>6</td>\n",
       "      <td>41</td>\n",
       "    </tr>\n",
       "    <tr>\n",
       "      <th>12</th>\n",
       "      <td>yes</td>\n",
       "      <td>-6</td>\n",
       "      <td>31</td>\n",
       "    </tr>\n",
       "    <tr>\n",
       "      <th>13</th>\n",
       "      <td>no</td>\n",
       "      <td>7</td>\n",
       "      <td>13</td>\n",
       "    </tr>\n",
       "    <tr>\n",
       "      <th>14</th>\n",
       "      <td>yes</td>\n",
       "      <td>-7</td>\n",
       "      <td>4</td>\n",
       "    </tr>\n",
       "    <tr>\n",
       "      <th>15</th>\n",
       "      <td>yes</td>\n",
       "      <td>-8</td>\n",
       "      <td>1</td>\n",
       "    </tr>\n",
       "    <tr>\n",
       "      <th>16</th>\n",
       "      <td>no</td>\n",
       "      <td>8</td>\n",
       "      <td>1</td>\n",
       "    </tr>\n",
       "  </tbody>\n",
       "</table>\n",
       "</div>"
      ],
      "text/plain": [
       "   answer  num_diff  counts\n",
       "0      no         0   12532\n",
       "1      no         1    3879\n",
       "2     yes        -1    3576\n",
       "3      no         2    1311\n",
       "4     yes        -2    1225\n",
       "5      no         3     609\n",
       "6     yes        -3     514\n",
       "7      no         4     269\n",
       "8     yes        -4     225\n",
       "9      no         5     113\n",
       "10    yes        -5      76\n",
       "11     no         6      41\n",
       "12    yes        -6      31\n",
       "13     no         7      13\n",
       "14    yes        -7       4\n",
       "15    yes        -8       1\n",
       "16     no         8       1"
      ]
     },
     "execution_count": 53,
     "metadata": {},
     "output_type": "execute_result"
    }
   ],
   "source": [
    "diff_res_fewer"
   ]
  },
  {
   "cell_type": "markdown",
   "id": "bbc92dea",
   "metadata": {},
   "source": [
    "### BEHIND and FRONT"
   ]
  },
  {
   "cell_type": "code",
   "execution_count": 54,
   "id": "246f3658",
   "metadata": {},
   "outputs": [],
   "source": [
    "behindp_questions = probes['BEHIND_val_questions.json']['questions']"
   ]
  },
  {
   "cell_type": "code",
   "execution_count": 55,
   "id": "9823cd66",
   "metadata": {},
   "outputs": [],
   "source": [
    "frontp_questions = probes['FRONT_val_questions.json']['questions']"
   ]
  },
  {
   "cell_type": "code",
   "execution_count": 56,
   "id": "67494f42",
   "metadata": {},
   "outputs": [],
   "source": [
    "behindp_answers = get_probe_answers(behindp_questions)"
   ]
  },
  {
   "cell_type": "code",
   "execution_count": 57,
   "id": "45fff7f1",
   "metadata": {},
   "outputs": [
    {
     "data": {
      "text/plain": [
       "{'no': 12321, 'yes': 12059}"
      ]
     },
     "execution_count": 57,
     "metadata": {},
     "output_type": "execute_result"
    }
   ],
   "source": [
    "behindp_answers"
   ]
  },
  {
   "cell_type": "code",
   "execution_count": 58,
   "id": "1811d214",
   "metadata": {},
   "outputs": [],
   "source": [
    "frontp_answers = get_probe_answers(frontp_questions)"
   ]
  },
  {
   "cell_type": "code",
   "execution_count": 59,
   "id": "dd2c5325",
   "metadata": {},
   "outputs": [
    {
     "data": {
      "text/plain": [
       "{'yes': 12209, 'no': 12171}"
      ]
     },
     "execution_count": 59,
     "metadata": {},
     "output_type": "execute_result"
    }
   ],
   "source": [
    "frontp_answers"
   ]
  },
  {
   "cell_type": "code",
   "execution_count": 60,
   "id": "b5bf535e",
   "metadata": {},
   "outputs": [],
   "source": [
    "behind_file = \"../../data/results/2022-02-14_experiment1_e25_4mac_newSAME_seed0/probeBEHIND_res_by_round_dist.csv\"\n",
    "front_file = \"../../data/results/2022-02-14_experiment1_e25_4mac_newSAME_seed0/probeFRONT_res_by_round_dist.csv\""
   ]
  },
  {
   "cell_type": "code",
   "execution_count": 61,
   "id": "e9b7c119",
   "metadata": {},
   "outputs": [],
   "source": [
    "behind_data = pd.read_csv(behind_file)"
   ]
  },
  {
   "cell_type": "code",
   "execution_count": 62,
   "id": "81f8e6d7",
   "metadata": {},
   "outputs": [
    {
     "name": "stderr",
     "output_type": "stream",
     "text": [
      "<ipython-input-62-09880c95f648>:1: UserWarning: Boolean Series key will be reindexed to match DataFrame index.\n",
      "  behind_answers = behind_data[behind_data['epoch'] == 0][behind_data['batchNum'] == 0].drop(['prediction'], axis=1)\n"
     ]
    }
   ],
   "source": [
    "behind_answers = behind_data[behind_data['epoch'] == 0][behind_data['batchNum'] == 0].drop(['prediction'], axis=1)"
   ]
  },
  {
   "cell_type": "code",
   "execution_count": 63,
   "id": "ea7b568b",
   "metadata": {},
   "outputs": [
    {
     "data": {
      "text/plain": [
       "answer  dist\n",
       "no      1        426\n",
       "        2       2548\n",
       "        3       2837\n",
       "        4       2818\n",
       "        5       2308\n",
       "        6       1171\n",
       "        7        203\n",
       "        8         10\n",
       "yes     1        419\n",
       "        2       2438\n",
       "        3       2742\n",
       "        4       2773\n",
       "        5       2340\n",
       "        6       1133\n",
       "        7        203\n",
       "        8         11\n",
       "Name: counts, dtype: int64"
      ]
     },
     "execution_count": 63,
     "metadata": {},
     "output_type": "execute_result"
    }
   ],
   "source": [
    "behind_answers.groupby(['answer','dist'])['counts'].sum()"
   ]
  },
  {
   "cell_type": "code",
   "execution_count": 64,
   "id": "e9580c58",
   "metadata": {},
   "outputs": [],
   "source": [
    "front_data = pd.read_csv(front_file)"
   ]
  },
  {
   "cell_type": "code",
   "execution_count": 65,
   "id": "ecce7cdf",
   "metadata": {},
   "outputs": [
    {
     "name": "stderr",
     "output_type": "stream",
     "text": [
      "<ipython-input-65-887b8affec27>:1: UserWarning: Boolean Series key will be reindexed to match DataFrame index.\n",
      "  front_answers = front_data[front_data['epoch'] == 0][front_data['batchNum'] == 0].drop(['prediction'], axis=1)\n"
     ]
    }
   ],
   "source": [
    "front_answers = front_data[front_data['epoch'] == 0][front_data['batchNum'] == 0].drop(['prediction'], axis=1)"
   ]
  },
  {
   "cell_type": "code",
   "execution_count": 66,
   "id": "c3cfd43c",
   "metadata": {},
   "outputs": [
    {
     "data": {
      "text/plain": [
       "answer  dist\n",
       "no      1        430\n",
       "        2       2573\n",
       "        3       2792\n",
       "        4       2769\n",
       "        5       2288\n",
       "        6       1095\n",
       "        7        211\n",
       "        8         13\n",
       "yes     1        388\n",
       "        2       2512\n",
       "        3       2768\n",
       "        4       2811\n",
       "        5       2364\n",
       "        6       1159\n",
       "        7        198\n",
       "        8          9\n",
       "Name: counts, dtype: int64"
      ]
     },
     "execution_count": 66,
     "metadata": {},
     "output_type": "execute_result"
    }
   ],
   "source": [
    "front_answers.groupby(['answer','dist'])['counts'].sum()"
   ]
  },
  {
   "cell_type": "code",
   "execution_count": null,
   "id": "893d4c1b",
   "metadata": {},
   "outputs": [],
   "source": []
  }
 ],
 "metadata": {
  "kernelspec": {
   "display_name": "Python 3",
   "language": "python",
   "name": "python3"
  },
  "language_info": {
   "codemirror_mode": {
    "name": "ipython",
    "version": 3
   },
   "file_extension": ".py",
   "mimetype": "text/x-python",
   "name": "python",
   "nbconvert_exporter": "python",
   "pygments_lexer": "ipython3",
   "version": "3.8.8"
  }
 },
 "nbformat": 4,
 "nbformat_minor": 5
}
