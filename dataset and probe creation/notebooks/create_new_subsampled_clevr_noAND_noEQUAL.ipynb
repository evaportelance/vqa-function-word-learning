{
 "cells": [
  {
   "cell_type": "code",
   "execution_count": 1,
   "id": "9c70933a",
   "metadata": {},
   "outputs": [],
   "source": [
    "import os\n",
    "import json\n",
    "import random"
   ]
  },
  {
   "cell_type": "code",
   "execution_count": 3,
   "id": "e1cb9ec0",
   "metadata": {},
   "outputs": [],
   "source": [
    "train_q_file = \"../../data/CLEVR_v1/data/CLEVR_train_questions.json\""
   ]
  },
  {
   "cell_type": "code",
   "execution_count": 4,
   "id": "bb481331",
   "metadata": {},
   "outputs": [],
   "source": [
    "with open(train_q_file) as f:\n",
    "    train_questions = json.load(f)"
   ]
  },
  {
   "cell_type": "code",
   "execution_count": 5,
   "id": "8145ae1b",
   "metadata": {},
   "outputs": [],
   "source": [
    "info = train_questions['info']"
   ]
  },
  {
   "cell_type": "code",
   "execution_count": 6,
   "id": "f12f01fb",
   "metadata": {},
   "outputs": [],
   "source": [
    "questions = train_questions['questions']"
   ]
  },
  {
   "cell_type": "code",
   "execution_count": 7,
   "id": "6ea3aab8",
   "metadata": {},
   "outputs": [],
   "source": [
    "questions_dict = {}\n",
    "for q in questions:\n",
    "    questions_dict[q['question_index']] = q"
   ]
  },
  {
   "cell_type": "markdown",
   "id": "b70a78c1",
   "metadata": {},
   "source": [
    "## Sampling CLEVR dataset without AND or EQUALS questions"
   ]
  },
  {
   "cell_type": "code",
   "execution_count": 2,
   "id": "3b47efc4",
   "metadata": {},
   "outputs": [],
   "source": [
    "def get_questions_with_word(word):\n",
    "    word_questions = set()\n",
    "    for k,v in questions_dict.items():\n",
    "        if word in v['question']:\n",
    "            word_questions.add(k)\n",
    "    return word_questions"
   ]
  },
  {
   "cell_type": "code",
   "execution_count": 3,
   "id": "bf58a6eb",
   "metadata": {},
   "outputs": [],
   "source": [
    "def get_total_word_count_and_data(subsampled_questions_dict):\n",
    "    total_word_count = 0\n",
    "    data = []\n",
    "    for k,q in subsampled_questions_dict.items():\n",
    "        line = q['question']\n",
    "        line = line.strip('?').lower()\n",
    "        line_as_list = line.split(\" \")\n",
    "        data += line_as_list\n",
    "        total_word_count += len(line_as_list)\n",
    "    return data, total_word_count\n",
    "\n",
    "def get_token_counts(data):\n",
    "    word_set = {\"and\", \"or\", \"more\", \"fewer\", \"behind\", \"front\", \"same\"}\n",
    "    token_count_dict = {\"and\": 0, \"or\": 0, \"more\": 0, \"fewer\": 0, \"behind\": 0, \"in front\": 0, \"same\": 0}\n",
    "    prev_word = \"\"\n",
    "    for word in data:\n",
    "        if word in word_set:\n",
    "            if word == \"front\":\n",
    "                if prev_word == \"in\":\n",
    "                    token_count_dict[\"in front\"] += 1\n",
    "            else:\n",
    "                token_count_dict[word] += 1\n",
    "        prev_word = word\n",
    "    return token_count_dict"
   ]
  },
  {
   "cell_type": "code",
   "execution_count": 10,
   "id": "569af554",
   "metadata": {},
   "outputs": [
    {
     "data": {
      "text/plain": [
       "12868670"
      ]
     },
     "execution_count": 10,
     "metadata": {},
     "output_type": "execute_result"
    }
   ],
   "source": [
    "data, total_word_count = get_total_word_count_and_data(questions_dict)\n",
    "total_word_count"
   ]
  },
  {
   "cell_type": "code",
   "execution_count": 11,
   "id": "5147b30b",
   "metadata": {},
   "outputs": [
    {
     "data": {
      "text/plain": [
       "{'and': 81506,\n",
       " 'or': 63214,\n",
       " 'more': 11570,\n",
       " 'fewer': 11851,\n",
       " 'behind': 147409,\n",
       " 'in front': 147506,\n",
       " 'same': 356333}"
      ]
     },
     "execution_count": 11,
     "metadata": {},
     "output_type": "execute_result"
    }
   ],
   "source": [
    "token_count_dict = get_token_counts(data)\n",
    "token_count_dict"
   ]
  },
  {
   "cell_type": "code",
   "execution_count": 12,
   "id": "27072f3c",
   "metadata": {},
   "outputs": [
    {
     "data": {
      "text/plain": [
       "{'and': 0.0994716795075355,\n",
       " 'or': 0.07714772836833299,\n",
       " 'more': 0.014120277426228569,\n",
       " 'fewer': 0.014463215884030663,\n",
       " 'behind': 0.17990112144536965,\n",
       " 'in front': 0.18001950233649708,\n",
       " 'same': 0.43487647503200555}"
      ]
     },
     "execution_count": 12,
     "metadata": {},
     "output_type": "execute_result"
    }
   ],
   "source": [
    "sum_count = sum([token_count_dict[k] for k in token_count_dict.keys()])\n",
    "token_prop_dict = {k:(v/sum_count) for k,v in token_count_dict.items()}\n",
    "token_prop_dict"
   ]
  },
  {
   "cell_type": "markdown",
   "id": "59950c74",
   "metadata": {},
   "source": [
    "### AND questions"
   ]
  },
  {
   "cell_type": "code",
   "execution_count": 13,
   "id": "b02ffc17",
   "metadata": {},
   "outputs": [],
   "source": [
    "and_questions = get_questions_with_word(\" and \")"
   ]
  },
  {
   "cell_type": "markdown",
   "id": "b9ab1229",
   "metadata": {},
   "source": [
    "### EQUALS questions"
   ]
  },
  {
   "cell_type": "code",
   "execution_count": 14,
   "id": "451b22e2",
   "metadata": {},
   "outputs": [],
   "source": [
    "equal_questions = get_questions_with_word(\" same as the number \") | get_questions_with_word(\" same number \") | get_questions_with_word(\" equal \")"
   ]
  },
  {
   "cell_type": "markdown",
   "id": "ef84ed91",
   "metadata": {},
   "source": [
    "### Subsampled corpus"
   ]
  },
  {
   "cell_type": "code",
   "execution_count": 15,
   "id": "ae08e4d2",
   "metadata": {},
   "outputs": [],
   "source": [
    "union_remove_questions = and_questions | equal_questions"
   ]
  },
  {
   "cell_type": "code",
   "execution_count": 18,
   "id": "bab578d1",
   "metadata": {},
   "outputs": [],
   "source": [
    "keep_questions = set(questions_dict.keys())"
   ]
  },
  {
   "cell_type": "code",
   "execution_count": 19,
   "id": "4c50a3e7",
   "metadata": {},
   "outputs": [],
   "source": [
    "keep_questions  = keep_questions - union_remove_questions"
   ]
  },
  {
   "cell_type": "code",
   "execution_count": 25,
   "id": "9f6ca099",
   "metadata": {},
   "outputs": [],
   "source": [
    "subsampled_questions_dict = {x : questions_dict[x] for x in keep_questions}"
   ]
  },
  {
   "cell_type": "code",
   "execution_count": 26,
   "id": "3488e469",
   "metadata": {},
   "outputs": [
    {
     "data": {
      "text/plain": [
       "613163"
      ]
     },
     "execution_count": 26,
     "metadata": {},
     "output_type": "execute_result"
    }
   ],
   "source": [
    "len(subsampled_questions_dict.keys())"
   ]
  },
  {
   "cell_type": "code",
   "execution_count": 21,
   "id": "90ea8f01",
   "metadata": {},
   "outputs": [
    {
     "data": {
      "text/plain": [
       "10917959"
      ]
     },
     "execution_count": 21,
     "metadata": {},
     "output_type": "execute_result"
    }
   ],
   "source": [
    "data, total_word_count = get_total_word_count_and_data(subsampled_questions_dict)\n",
    "total_word_count"
   ]
  },
  {
   "cell_type": "code",
   "execution_count": 22,
   "id": "bbe272b2",
   "metadata": {},
   "outputs": [
    {
     "data": {
      "text/plain": [
       "{'and': 0,\n",
       " 'or': 63214,\n",
       " 'more': 11570,\n",
       " 'fewer': 11851,\n",
       " 'behind': 114782,\n",
       " 'in front': 114679,\n",
       " 'same': 314200}"
      ]
     },
     "execution_count": 22,
     "metadata": {},
     "output_type": "execute_result"
    }
   ],
   "source": [
    "token_count_dict = get_token_counts(data)\n",
    "token_count_dict"
   ]
  },
  {
   "cell_type": "code",
   "execution_count": 23,
   "id": "0750c84b",
   "metadata": {},
   "outputs": [],
   "source": [
    "sum_count = sum([token_count_dict[k] for k in token_count_dict.keys()])"
   ]
  },
  {
   "cell_type": "code",
   "execution_count": 24,
   "id": "592fb380",
   "metadata": {},
   "outputs": [
    {
     "data": {
      "text/plain": [
       "{'and': 0.0,\n",
       " 'or': 0.10029256095548758,\n",
       " 'more': 0.018356454745072158,\n",
       " 'fewer': 0.01880227702539759,\n",
       " 'behind': 0.18210808889791463,\n",
       " 'in front': 0.18194467361366723,\n",
       " 'same': 0.4984959447624608}"
      ]
     },
     "execution_count": 24,
     "metadata": {},
     "output_type": "execute_result"
    }
   ],
   "source": [
    "token_prop_dict = {k:(v/sum_count) for k,v in token_count_dict.items()}\n",
    "token_prop_dict"
   ]
  },
  {
   "cell_type": "markdown",
   "id": "ae6a5e0c",
   "metadata": {},
   "source": [
    "### Save new dataset"
   ]
  },
  {
   "cell_type": "code",
   "execution_count": 27,
   "id": "6c9514a4",
   "metadata": {},
   "outputs": [],
   "source": [
    "new_questions = [questions_dict[x] for x in keep_questions]"
   ]
  },
  {
   "cell_type": "code",
   "execution_count": 28,
   "id": "1c469f06",
   "metadata": {},
   "outputs": [
    {
     "data": {
      "text/plain": [
       "613163"
      ]
     },
     "execution_count": 28,
     "metadata": {},
     "output_type": "execute_result"
    }
   ],
   "source": [
    "len(new_questions)"
   ]
  },
  {
   "cell_type": "code",
   "execution_count": 29,
   "id": "aaeb007f",
   "metadata": {},
   "outputs": [],
   "source": [
    "# now renumber questions ids for new dataset\n",
    "i = 0\n",
    "for q in new_questions:\n",
    "    q['question_index'] = i\n",
    "    i+=1"
   ]
  },
  {
   "cell_type": "code",
   "execution_count": 30,
   "id": "acaa8208",
   "metadata": {},
   "outputs": [],
   "source": [
    "new_train_questions = {'info': info, 'questions': new_questions}"
   ]
  },
  {
   "cell_type": "code",
   "execution_count": 31,
   "id": "11b36679",
   "metadata": {},
   "outputs": [],
   "source": [
    "new_train_q_file = \"../../data/CLEVR_noANDnoEQUAL/data/CLEVR_train_questions.json\"\n",
    "with open(new_train_q_file, \"w\") as f:\n",
    "    json.dump(new_train_questions, f)\n"
   ]
  },
  {
   "cell_type": "code",
   "execution_count": 10,
   "id": "373ffc84",
   "metadata": {},
   "outputs": [],
   "source": [
    "new_train_q_file = \"../../data/CLEVR_CHILDESfreq/data/CLEVR_train_questions.json\"\n",
    "\n",
    "with open(new_train_q_file) as f:\n",
    "    train_questions = json.load(f)"
   ]
  },
  {
   "cell_type": "code",
   "execution_count": 11,
   "id": "12b918a1",
   "metadata": {},
   "outputs": [],
   "source": [
    "questions = train_questions['questions']"
   ]
  },
  {
   "cell_type": "code",
   "execution_count": 12,
   "id": "cc836748",
   "metadata": {},
   "outputs": [],
   "source": [
    "questions_dict = {}\n",
    "for q in questions:\n",
    "    questions_dict[q['question_index']] = q"
   ]
  },
  {
   "cell_type": "code",
   "execution_count": 13,
   "id": "65e068d5",
   "metadata": {},
   "outputs": [
    {
     "data": {
      "text/plain": [
       "9652086"
      ]
     },
     "execution_count": 13,
     "metadata": {},
     "output_type": "execute_result"
    }
   ],
   "source": [
    "data, total_word_count = get_total_word_count_and_data(questions_dict)\n",
    "total_word_count"
   ]
  },
  {
   "cell_type": "code",
   "execution_count": 14,
   "id": "7c8297cc",
   "metadata": {},
   "outputs": [
    {
     "data": {
      "text/plain": [
       "{'and': 81506,\n",
       " 'or': 8610,\n",
       " 'more': 11570,\n",
       " 'fewer': 105,\n",
       " 'behind': 113881,\n",
       " 'in front': 39260,\n",
       " 'same': 335667}"
      ]
     },
     "execution_count": 14,
     "metadata": {},
     "output_type": "execute_result"
    }
   ],
   "source": [
    "token_count_dict = get_token_counts(data)\n",
    "token_count_dict"
   ]
  },
  {
   "cell_type": "code",
   "execution_count": null,
   "id": "56789cf8",
   "metadata": {},
   "outputs": [],
   "source": []
  }
 ],
 "metadata": {
  "kernelspec": {
   "display_name": "Python 3",
   "language": "python",
   "name": "python3"
  },
  "language_info": {
   "codemirror_mode": {
    "name": "ipython",
    "version": 3
   },
   "file_extension": ".py",
   "mimetype": "text/x-python",
   "name": "python",
   "nbconvert_exporter": "python",
   "pygments_lexer": "ipython3",
   "version": "3.8.8"
  }
 },
 "nbformat": 4,
 "nbformat_minor": 5
}
